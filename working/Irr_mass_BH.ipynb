{
 "cells": [
  {
   "cell_type": "markdown",
   "id": "e259e103-a6a9-4c89-a4f6-ebbb12ce1b47",
   "metadata": {},
   "source": [
    "# The irreducible mass of black holes\n",
    "\n",
    "For a BH of mass $M$ spin $\\chi\\in [0,1]$, the irreducible mass is \n",
    "\\begin{equation}\n",
    "M_{\\rm irr} = %\\sqrt{\\frac{M^2+\\sqrt{M^4-S^2}}{2}} = \n",
    " M \\sqrt{\\frac{1+\\sqrt{1-\\chi^2}}{2}}\n",
    "\\label{mirrdef}\n",
    "\\end{equation}\n",
    "For convenience, let us define $f= M_{\\rm irr}/M$\n",
    "\n",
    "Suppose you have repeated measurment of $M$ and $\\chi$. This is just because we're still frequentists for now. When we will put our Bayesian hat on, these distributions will be the *posterior samples* from a single measurement.\n",
    "\n",
    "Let's assume that\n",
    "\n",
    "- the spin $\\chi$ is uniformly distributed between 0 and 1.\n",
    "- the mass $M$ is normally distributed with mean $\\mu$ and standard deviation $\\sigma$.\n",
    "\n",
    "These are simplistic assumption that, however, are not too far from what we are now measuring with gravitational-wave detectors. It's a toy model, but not a totally unreasonable one.\n",
    "\n",
    "**Tasks**:\n",
    "\n",
    "1. Start with a value of $\\sigma=0.02$. Note that $\\mu$ is a scale and not a parameter: you can normalize all quantities with a dimension of mass by $\\mu$. Just set $\\mu=1$ in your code and remember that all masses in the problem are measured in units of $\\mu$. \n",
    "\n",
    "2. Plot the resulting pdf of $M_{\\rm irr}$. First try an histogram with one the rules of thumb we've seen above.\n",
    "\n",
    "*Hint*: You don't know the functional form of the pdf of $M_{\\rm irr}$... but you don't need it if you just want to generate samples! That's the nice thing about numerics!\n",
    "\n",
    "3. Using the same samples, plot the $M_{\\rm irr}$ using a KDE.\n",
    "\n",
    "4. Compute the KS distance between ${M_{\\rm irr}}$ and ${f}$ as a function of $\\sigma$. Discuss the limits at large and small values of $\\sigma$. \n",
    "\n",
    "5. Compute the KS distance between ${M_{\\rm irr}}$ and $M$ as a function of $\\sigma$. Discuss the limits at large and small values of $\\sigma$.\n",
    "\n",
    "6. You should find that (i) $M_{\\rm irr}$ is distributed like $f$ if ${\\sigma}\\ll \\mu$ and (ii) $M_{\\rm irr}$ is distributed like $M$ if  $\\sigma\\gg \\mu$.\n",
    "\n",
    "\n",
    "7. (At home...)  Compute the pdfs of $M_{\\rm irr}$ from their mathematical definitions, plot them, and check they agree with your KDE.\n",
    "\n",
    "*Hint 1*: First compute the pdf of $f$, that is just a change of variable. We saw how to do this in a previous lecture. The answer is:\n",
    "\\begin{equation}\n",
    "\\pi(f) = 2\\frac{2 f^2-1}{\\sqrt{1 - f^2}}\\,.\n",
    "\\end{equation}\n",
    "\n",
    "*Hint 2*: Then compute the pdf of $M_{\\rm irr}$, you want to use [this theorem](https://en.wikipedia.org/wiki/Distribution_of_the_product_of_two_random_variables) for the product of two random variables. The answer is only semi-analytic (unless you know how to solve that integral? If so please tell me!)\n",
    "\\begin{equation}\n",
    "p(M_{\\rm irr})  = \\frac{\\sqrt{2/\\pi}}{\\sigma} \\int_{1/\\sqrt{2}}^1 \\exp\\left[{-\\frac{(M_{\\rm irr}/f -\\mu)^2}{2\\sigma^2}}\\right]  \\frac{2 f^2-1}{f \\sqrt{1 - f^2}}  \\,\\, {\\rm d}f\\,. \\label{pmirr}\n",
    "\\end{equation}\n",
    "\n"
   ]
  },
  {
   "cell_type": "code",
   "execution_count": 1,
   "id": "d64e69a3-4991-4f46-aeeb-7c41c89a2d86",
   "metadata": {},
   "outputs": [],
   "source": [
    "import numpy as np\n",
    "from matplotlib import pyplot as plt\n",
    "from sklearn.mixture import GaussianMixture\n",
    "from scipy.stats import norm, uniform"
   ]
  },
  {
   "cell_type": "markdown",
   "id": "a1aa462e-fc93-42d6-ab4b-4aff3bd4094e",
   "metadata": {},
   "source": [
    "## Distributions sampling: "
   ]
  },
  {
   "cell_type": "markdown",
   "id": "de3fe233-0723-497f-8924-65edd76f7e59",
   "metadata": {},
   "source": [
    "I start by extracting $N$ random samples from the given distributions: "
   ]
  },
  {
   "cell_type": "code",
   "execution_count": 2,
   "id": "b52173a2-bcc3-4608-8982-1397d873eaa8",
   "metadata": {},
   "outputs": [],
   "source": [
    "N = 10000\n",
    "chi = uniform.rvs(0, 1, N)\n",
    "M = norm.rvs(1, 0.02, N)  # mu = 1, sigma = 0.02"
   ]
  },
  {
   "cell_type": "markdown",
   "id": "60c6676d-da5a-4650-942a-94f161f14c6e",
   "metadata": {},
   "source": [
    "All masses will be from now on in units of mu. "
   ]
  },
  {
   "cell_type": "code",
   "execution_count": 3,
   "id": "966edeba-a5f2-4f7b-87c5-43406ac325c6",
   "metadata": {},
   "outputs": [],
   "source": [
    "def M_irr(chi, M): \n",
    "    \n",
    "    return M * np.sqrt((1 + np.sqrt(1 - chi**2)) / 2)"
   ]
  },
  {
   "cell_type": "markdown",
   "id": "7971c898-5820-4ab6-81a4-bb64e6441980",
   "metadata": {},
   "source": [
    "Now get to the $M_{irr}$ distribution: "
   ]
  },
  {
   "cell_type": "code",
   "execution_count": 4,
   "id": "9340b3ba-58b7-401e-a857-ba74d3352125",
   "metadata": {},
   "outputs": [],
   "source": [
    "M_irrs = M_irr(chi, M)"
   ]
  },
  {
   "cell_type": "code",
   "execution_count": 5,
   "id": "2b1d2a5a-2c08-4d1b-88ee-0bbd4fe977ca",
   "metadata": {},
   "outputs": [
    {
     "data": {
      "image/png": "[encoded data removed]",
      "text/plain": [
       "<Figure size 720x432 with 1 Axes>"
      ]
     },
     "metadata": {
      "needs_background": "light"
     },
     "output_type": "display_data"
    }
   ],
   "source": [
    "plt.figure(figsize=(10, 6))\n",
    "\n",
    "plt.hist(M_irrs, bins=100, density=True, alpha=0.5)\n",
    "\n",
    "plt.show()"
   ]
  },
  {
   "cell_type": "markdown",
   "id": "93e86a63-5d61-4459-8e93-500573a691fa",
   "metadata": {},
   "source": [
    "### Thumb rules distribution: "
   ]
  },
  {
   "cell_type": "markdown",
   "id": "7b16ab28-2818-4b47-b4c3-471874fc5b07",
   "metadata": {},
   "source": [
    "I choose to use the $\\textbf{\"Freedman-Diaconis rule\"}$: \n",
    "    \n",
    "$\\Delta_{b} = \\frac{2 (q_{75} - q_{25})}{N^{1/3}} = \\frac{2.7 \\sigma_{G}}{N^{1/3}}$\n",
    "    \n",
    "To apply the formula I first evaluate $\\sigma_{G}$: "
   ]
  },
  {
   "cell_type": "code",
   "execution_count": 6,
   "id": "c239925b-87e4-4977-839f-23a218a76889",
   "metadata": {},
   "outputs": [],
   "source": [
    "from astroML import stats as astroMLstats  # this module is useful to evaluate it fast\n",
    "\n",
    "sigmaG2 = astroMLstats.sigmaG(M_irrs)"
   ]
  },
  {
   "cell_type": "code",
   "execution_count": 7,
   "id": "388eaa05-eb00-46f0-9300-8a3a67d183bd",
   "metadata": {},
   "outputs": [],
   "source": [
    "# use the formula and get the bins size\n",
    "\n",
    "binsize = 2.7 * sigmaG2 / (N ** (1 / 3))\n",
    "binsG = np.append(np.arange(start=M_irrs.min(), stop=M_irrs.max(), step=binsize) , M_irrs.max()) "
   ]
  },
  {
   "cell_type": "code",
   "execution_count": 8,
   "id": "bc75c3e2-5915-43bb-954a-bba57e2c64f8",
   "metadata": {},
   "outputs": [
    {
     "data": {
      "image/png": "[encoded data removed]",
      "text/plain": [
       "<Figure size 720x432 with 1 Axes>"
      ]
     },
     "metadata": {
      "needs_background": "light"
     },
     "output_type": "display_data"
    }
   ],
   "source": [
    "plt.figure(figsize=(10, 6))\n",
    "\n",
    "plt.hist(M_irrs, bins=binsG, density=True, alpha=0.5)\n",
    "\n",
    "plt.show()"
   ]
  },
  {
   "cell_type": "markdown",
   "id": "4ac990b7-a1b9-4c57-af1e-4d074271cffa",
   "metadata": {},
   "source": [
    "### KDE distribution: "
   ]
  },
  {
   "cell_type": "code",
   "execution_count": 9,
   "id": "1421102d-df04-4ec8-9bc9-6970cddd91d3",
   "metadata": {},
   "outputs": [],
   "source": [
    "from sklearn.neighbors import KernelDensity\n",
    "\n",
    "x_i = np.linspace(M_irrs.min(),M_irrs.max(), 10000)  # prepare the x_i array to plot the distribution"
   ]
  },
  {
   "cell_type": "markdown",
   "id": "4d94c4fb-913e-4684-a64b-0759e8d571a6",
   "metadata": {},
   "source": [
    "Now I define the function that returns the distribution, according to the KDE: "
   ]
  },
  {
   "cell_type": "code",
   "execution_count": 10,
   "id": "3a5c54a0-10c7-474d-8d16-d0bb4e8dd507",
   "metadata": {},
   "outputs": [],
   "source": [
    "def kde_sklearn(data, c_bandwidth, c_kernel):\n",
    "    \n",
    "    kde_skl = KernelDensity(bandwidth = c_bandwidth, kernel = c_kernel)\n",
    "    \n",
    "    kde_skl.fit(data[:, np.newaxis])\n",
    "    \n",
    "    log_pdf = kde_skl.score_samples(x_i[:, np.newaxis]) # sklearn returns log(density)\n",
    "\n",
    "    return np.exp(log_pdf)"
   ]
  },
  {
   "cell_type": "markdown",
   "id": "8843a68d-e396-460a-8c7e-ea8053af5bf3",
   "metadata": {},
   "source": [
    "Folowing the steps of Lec.7, I start by plotting the distributions: "
   ]
  },
  {
   "cell_type": "code",
   "execution_count": null,
   "id": "984677d7-9175-4d8c-8533-8e1a4496f7a6",
   "metadata": {},
   "outputs": [],
   "source": [
    "pdf_TH = kde_sklearn(M_irrs, 0.02, \"tophat\")\n",
    "pdf_G = kde_sklearn(M_irrs, 0.02, \"gaussian\")\n",
    "pdf_E = kde_sklearn(M_irrs, 0.02, \"epanechnikov\")\n",
    "\n",
    "plt.figure(figsize=(10, 6))\n",
    "plt.plot(x_i, pdf_TH, label=\"Tophat\")\n",
    "plt.plot(x_i, pdf_G, label=\"Gaussian\")\n",
    "plt.plot(x_i, pdf_E, label=\"Epanechnikov\")\n",
    "\n",
    "plt.xlabel(\"M_irrs [$\\mu$]\")\n",
    "plt.ylabel(\"Counts\")\n",
    "plt.legend();"
   ]
  },
  {
   "cell_type": "markdown",
   "id": "c354f876-4ced-487d-9bcd-29a55bec46bd",
   "metadata": {},
   "source": [
    "### KS distance:"
   ]
  },
  {
   "cell_type": "markdown",
   "id": "e75f345a-26b2-4b08-ba98-5cf48e93e69e",
   "metadata": {},
   "source": [
    "First define f: "
   ]
  },
  {
   "cell_type": "code",
   "execution_count": null,
   "id": "090edc2f-c240-4f8d-9a9f-2e4dd1fd7069",
   "metadata": {},
   "outputs": [],
   "source": [
    "def f(M_irrs, M): \n",
    "    \n",
    "    return M_irrs / M"
   ]
  },
  {
   "cell_type": "markdown",
   "id": "a3dc96f5-af2a-4795-9e17-962cd43be5ae",
   "metadata": {},
   "source": [
    "Then set the values for the $\\sigma$: "
   ]
  },
  {
   "cell_type": "code",
   "execution_count": null,
   "id": "3eb2bffd-46c1-4614-87b2-88c477404946",
   "metadata": {},
   "outputs": [],
   "source": [
    "sigma = np.logspace(-3, 2, 100)"
   ]
  },
  {
   "cell_type": "markdown",
   "id": "40b8aa29-fa5a-474d-b3bf-a464228316e2",
   "metadata": {},
   "source": [
    "Produce the $M$, $\\chi$, $M_{irr}$ and $f$ distributions: "
   ]
  },
  {
   "cell_type": "code",
   "execution_count": null,
   "id": "988d299b-e9ec-46fa-946d-89c2ba8d07f1",
   "metadata": {},
   "outputs": [],
   "source": [
    "Ms = np.array([norm.rvs(1, s, len(sigma)) for s in sigma])\n",
    "chis = np.array(uniform.rvs(0, 1, len(sigma)))"
   ]
  },
  {
   "cell_type": "code",
   "execution_count": null,
   "id": "3175add8-7c54-4e53-bb26-a8430f07b51a",
   "metadata": {},
   "outputs": [],
   "source": [
    "M_irrs_1 = M_irr(chis, Ms)\n",
    "fs = f(M_irrs_1, Ms)"
   ]
  },
  {
   "cell_type": "markdown",
   "id": "be6983f3-7b55-4177-b7e8-62c1ec6fb291",
   "metadata": {},
   "source": [
    "Now I evaluate the KS distance:"
   ]
  },
  {
   "cell_type": "code",
   "execution_count": null,
   "id": "e574dd9a-adec-49e1-9a21-cf94191c624e",
   "metadata": {},
   "outputs": [],
   "source": [
    "from scipy.stats import ks_2samp, kstest"
   ]
  },
  {
   "cell_type": "markdown",
   "id": "13889841-8368-4b01-90b6-c90989a659ad",
   "metadata": {},
   "source": [
    "Null hypotheses: \n",
    "\n",
    "- $\\textbf{$M_{irr}$ VS f}: M_{irr}$ follows f distribution\n",
    "- $\\textbf{$M_{irr}$ VS M}: M_{irr}$ follows M distribution\n",
    "\n"
   ]
  },
  {
   "cell_type": "code",
   "execution_count": null,
   "id": "66e2595e-eb7f-4059-8a16-276e58c223b4",
   "metadata": {},
   "outputs": [],
   "source": [
    "p_vals_fVSMirr = np.array([kstest(M_irrs_1[i], fs[i], \"two-sided\")[1] for i in range(0, len(fs))]) \n",
    "p_vals_MVSMirr = np.array([kstest(M_irrs_1[i], Ms[i], \"two-sided\")[1] for i in range(0, len(fs))])"
   ]
  },
  {
   "cell_type": "markdown",
   "id": "b61ec9c0-afa7-4ef3-98b6-1fb722f1cd21",
   "metadata": {},
   "source": [
    "I here report some plots: "
   ]
  },
  {
   "cell_type": "code",
   "execution_count": null,
   "id": "50e233a0-e6c7-4480-ba00-29aa49b5df6f",
   "metadata": {},
   "outputs": [],
   "source": [
    "plt.figure(figsize=(10, 6))\n",
    "plt.loglog(sigma, p_vals_fVSMirr, label=\"$M_{irr}$ vs $f$\", marker='.')\n",
    "plt.loglog(sigma, p_vals_MVSMirr, label=\"$M_{irr}$ vs $M$\", marker='.')\n",
    "plt.axvline(x = 1, linestyle = '-.', c = 'r', label = \"$\\mu$\")\n",
    "plt.xlabel(\"$\\sigma$\")\n",
    "plt.ylabel(\"$p$ values\")\n",
    "plt.legend();"
   ]
  },
  {
   "cell_type": "markdown",
   "id": "78f9184b-bdaf-4ebe-a5f3-ae0cb2616a16",
   "metadata": {},
   "source": [
    "Statement: I wish to test the null hypothesis that a sample is distributed\n",
    "according to the $f$ or $M$ distribution. \n",
    "\n",
    "The above plot has two behaviours: \n",
    "\n",
    "- on the left we observe that the $p$-value has bigger values for the $\\mathrm{f \\ vs \\ } M_{irr}$ KS. \n",
    "- on the right we observe the opposite ($p$-value has bigger values for the $\\mathrm{M \\ vs \\ } M_{irr}$ KS). "
   ]
  },
  {
   "cell_type": "markdown",
   "id": "5921c3c9-cfe1-4305-8009-c10e80df78a9",
   "metadata": {},
   "source": [
    "This means that one has a bigger probability to reject the hypothesis that $M_{irr}$ is distributed like $M$ $\\textbf{IF}$ $\\sigma\\ll \\mu$. Else, one has a bigger probability to reject the hypothesis that $M_{irr}$ is distributed like $f$ $\\textbf{IF}$ $\\sigma\\gg \\mu$."
   ]
  },
  {
   "cell_type": "code",
   "execution_count": null,
   "id": "1e1057f0-12cb-441f-9f4c-31f7899529a0",
   "metadata": {},
   "outputs": [],
   "source": [
    "# (Se prendo un sample dalla prima quale è la probabilità che sia distribuito come la SECONDA)"
   ]
  },
  {
   "cell_type": "markdown",
   "id": "72afb644-3102-499b-89f2-5364106b7acc",
   "metadata": {},
   "source": [
    "### Check with the analitic distribution: "
   ]
  },
  {
   "cell_type": "markdown",
   "id": "ba000069-2af9-49e0-8bb3-1202e6298092",
   "metadata": {},
   "source": [
    "\\begin{equation}\n",
    "p(M_{\\rm irr})  = \\frac{\\sqrt{2/\\pi}}{\\sigma} \\int_{1/\\sqrt{2}}^1 \\exp\\left[{-\\frac{(M_{\\rm irr}/f -\\mu)^2}{2\\sigma^2}}\\right]  \\frac{2 f^2-1}{f \\sqrt{1 - f^2}}  \\,\\, {\\rm d}f\\,. \\label{pmirr}\n",
    "\\end{equation}"
   ]
  },
  {
   "cell_type": "markdown",
   "id": "fb4731de-464a-4a4d-bbf2-d2b4dfc7ebf9",
   "metadata": {},
   "source": [
    "First I set the values for $f$ ($M_{irr}$ will be the x_i array I set before): "
   ]
  },
  {
   "cell_type": "code",
   "execution_count": null,
   "id": "895632c2-8848-4173-9319-2283b0843d50",
   "metadata": {},
   "outputs": [],
   "source": [
    "fs_int = np.linspace(1/np.sqrt(2), 0.999999, 10000)"
   ]
  },
  {
   "cell_type": "markdown",
   "id": "e9b6876f-b1fc-4754-a1ec-c17e36d436d7",
   "metadata": {},
   "source": [
    "Define the function I have to integrate: "
   ]
  },
  {
   "cell_type": "code",
   "execution_count": null,
   "id": "d1223e26-f613-4da8-aadd-ea3103ea6ffd",
   "metadata": {},
   "outputs": [],
   "source": [
    "def func(M_irr, f, mu, sigma): \n",
    "    \n",
    "    return np.exp(- ((M_irr/f - mu)**2 / (2 * sigma**2))) * (2 * f**2 - 1) / (f * np.sqrt(1 - f**2))"
   ]
  },
  {
   "cell_type": "markdown",
   "id": "62dd737c-36cd-44a4-8c69-1a4c9e4e174f",
   "metadata": {},
   "source": [
    "Set an array of results for the integral, varying the $M_{irr}$ value each time: "
   ]
  },
  {
   "cell_type": "code",
   "execution_count": null,
   "id": "dccb08bd-8dfc-4b14-9001-b13fb48c81c0",
   "metadata": {},
   "outputs": [],
   "source": [
    "integrals = np.sqrt(2 / np.pi) / 0.02 * np.array([np.trapz(func(x, fs_int, 1, 0.02), dx=fs_int[1] - fs_int[0]) for x in x_i])"
   ]
  },
  {
   "cell_type": "markdown",
   "id": "cf4605d9-2827-4b7c-a333-effc93738a68",
   "metadata": {},
   "source": [
    "Plotting the distribution and the result of the integration I carried out: "
   ]
  },
  {
   "cell_type": "code",
   "execution_count": null,
   "id": "55119829-d113-4d5c-a073-581dcc305b3c",
   "metadata": {},
   "outputs": [],
   "source": [
    "plt.figure(figsize=(10, 6))\n",
    "\n",
    "plt.hist(M_irrs, bins=binsG, density=True, alpha=0.5, label=\"data\")\n",
    "plt.plot(x_i, integrals, label=\"analitic distribution\");\n",
    "\n",
    "plt.xlabel(\"$M_{irr}$\")\n",
    "plt.ylabel(\"p($M_{irr}$)\")\n",
    "plt.legend();\n",
    "\n",
    "plt.show()"
   ]
  }
 ],
 "metadata": {
  "kernelspec": {
   "display_name": "Python 3 (ipykernel)",
   "language": "python",
   "name": "python3"
  },
  "language_info": {
   "codemirror_mode": {
    "name": "ipython",
    "version": 3
   },
   "file_extension": ".py",
   "mimetype": "text/x-python",
   "name": "python",
   "nbconvert_exporter": "python",
   "pygments_lexer": "ipython3",
   "version": "3.9.7"
  }
 },
 "nbformat": 4,
 "nbformat_minor": 5
}
