{
 "cells": [
  {
   "cell_type": "markdown",
   "id": "ca0a8af4",
   "metadata": {},
   "source": [
    "## Time to get your hands dirty. Galaxies vs quasars with neural networks.\n",
    "\n",
    "Let's go back to our galaxy vs quasar data we've used in a previous exercise. \n",
    "\n",
    "1. Read in SDSS galaxy color data from `solutions/galaxyquasar.csv`. Create arrays for the $(u-g)$, $(g-r)$, $(r-i)$, and $(i-z)$ colors. Also create an array with the class labels where galaxy=$0$ and quasar=$1$. \n",
    "\n",
    "2. Now we're going to fit a neural network classifier. First, scale your data appropriately and do a 30% train/test split.\n",
    "\n",
    "3. Now train the classifier. Use one the package among those we've seen. These include Tensorflow via keras, pytorch, and the [multilayer perceptron classifier](sklearn.neural_network.MLPClassifier) implemented in scikit-learn. My solution uses the latter, but this is an opportunity to pick the one you're most interested in learning. \n",
    "\n",
    "3. Start from a network architecture with a single hidden layer with 5 neurons, using the `adam` solver, the `relu` activation function, and a learninig rate of `0.001`. Plot the resulting ROC curve. \n",
    "\n",
    "4. Now let's optimize the hyperparameters of your network. Explore different hyperparameters and see what fits the data best.  Do your best now to optimize the network architecture. Be creative!\n",
    "\n",
    "5. Is your best result comparable with the simpler classifiers we've seen before? Do we need deep learning here? If yes, which features are captured best?\n",
    "\n",
    "\n",
    "A few tips:\n",
    "\n",
    "- In scikit-learn, remember that you can utilize all availables cores on your machine with `n_jobs=-1`. Print out the classification score for the training data, and the best parameters obtained by the cross validation.\n",
    "- If it takes too long, run the hyperparameter optimization on a subset of the training set. Then retrain the full network using the best hyperparameters only.\n",
    "- On cross validation, for scikit learn we've seen how to use `GridSearchCV` already. For Tensorflow, there's a really cool tool called [Tensorboard](https://www.tensorflow.org/tensorboard)"
   ]
  },
  {
   "cell_type": "code",
   "execution_count": 13,
   "id": "cbd7332d",
   "metadata": {},
   "outputs": [],
   "source": [
    "import emcee\n",
    "import numpy as np\n",
    "from scipy import stats\n",
    "from matplotlib import pyplot as plt\n",
    "from astropy.table import Table\n",
    "\n",
    "from astroML.utils import completeness_contamination\n",
    "from astroML.utils.decorators import pickle_results\n",
    "from astroML.utils import split_samples\n",
    "from astroML.classification import GMMBayes\n",
    "\n",
    "from sklearn.model_selection import cross_val_predict\n",
    "from sklearn.neighbors import KNeighborsClassifier\n",
    "from sklearn.naive_bayes import GaussianNB\n",
    "from sklearn.metrics import accuracy_score\n",
    "from sklearn.model_selection import train_test_split\n",
    "from sklearn.discriminant_analysis import LinearDiscriminantAnalysis as LDA\n",
    "from sklearn.discriminant_analysis import QuadraticDiscriminantAnalysis as QDA\n",
    "from sklearn.neural_network import MLPRegressor, MLPClassifier\n",
    "from sklearn import preprocessing\n",
    "from sklearn.metrics import roc_curve\n",
    "from sklearn.metrics import precision_recall_curve, confusion_matrix\n",
    "from sklearn.metrics import RocCurveDisplay\n",
    "from sklearn.model_selection import GridSearchCV"
   ]
  },
  {
   "cell_type": "markdown",
   "id": "af92fac5",
   "metadata": {},
   "source": [
    "# Data fetching"
   ]
  },
  {
   "cell_type": "code",
   "execution_count": 14,
   "id": "8855a5f5",
   "metadata": {},
   "outputs": [],
   "source": [
    "filename = \"../solutions/galaxyquasar.csv\"\n",
    "table = Table.read(filename)"
   ]
  },
  {
   "cell_type": "code",
   "execution_count": 15,
   "id": "429aa8ba",
   "metadata": {},
   "outputs": [],
   "source": [
    "u_g = table[\"u\"] - table[\"g\"]\n",
    "g_r = table[\"g\"] - table[\"r\"]\n",
    "r_i = table[\"r\"] - table[\"i\"]\n",
    "i_z = table[\"i\"] - table[\"z\"]\n",
    "\n",
    "labels = table[\"class\"]"
   ]
  },
  {
   "cell_type": "code",
   "execution_count": 16,
   "id": "75ee4047",
   "metadata": {},
   "outputs": [],
   "source": [
    "labels_z_o = np.where(labels==\"QSO\", 1, 0)"
   ]
  },
  {
   "cell_type": "code",
   "execution_count": 17,
   "id": "75e47a28",
   "metadata": {},
   "outputs": [],
   "source": [
    "N_dim_dataset = np.array([u_g, g_r, r_i, i_z]).T"
   ]
  },
  {
   "cell_type": "code",
   "execution_count": 18,
   "id": "6576c65a",
   "metadata": {},
   "outputs": [],
   "source": [
    "X_train, X_test, y_train, y_test = train_test_split(N_dim_dataset, labels_z_o, test_size=0.3, random_state=1) "
   ]
  },
  {
   "cell_type": "markdown",
   "id": "b41b4a4f",
   "metadata": {},
   "source": [
    "Quick overview of the dataset:"
   ]
  },
  {
   "cell_type": "code",
   "execution_count": 19,
   "id": "9bcd6170",
   "metadata": {},
   "outputs": [
    {
     "data": {
      "image/png": "[encoded data removed]",
      "text/plain": [
       "<Figure size 864x720 with 4 Axes>"
      ]
     },
     "metadata": {
      "needs_background": "light"
     },
     "output_type": "display_data"
    }
   ],
   "source": [
    "fig, axs = plt.subplots(2, 2, figsize=(12, 10))\n",
    "\n",
    "labels=[\"u-g\", \"g-r\", \"r-i\", \"i-z\"]\n",
    "\n",
    "for ax, data, xlabel in zip(axs.flatten(), N_dim_dataset.T, labels):\n",
    "    \n",
    "    ax.hist(data[labels_z_o==0], bins=50, histtype = 'step', label = 'galaxy', lw=1)\n",
    "    ax.hist(data[labels_z_o==1], bins=50, histtype = 'step', label = 'quasar', lw=1)\n",
    "    ax.hist(data, bins=50, label = 'data', color='blue', alpha=0.3)\n",
    "    ax.legend()\n",
    "    ax.set_xlabel(xlabel)\n",
    "    \n",
    "plt.tight_layout(pad=1.5);"
   ]
  },
  {
   "cell_type": "markdown",
   "id": "61b48249",
   "metadata": {},
   "source": [
    "I scale the quantities such that your neural network works with the same quantities. This is essential as a passage because it helps with magnitude issues:"
   ]
  },
  {
   "cell_type": "code",
   "execution_count": 20,
   "id": "63db8c71",
   "metadata": {},
   "outputs": [],
   "source": [
    "Xtrain_scaled = preprocessing.scale(X_train)\n",
    "Xtest_scaled = preprocessing.scale(X_test)\n",
    "X_scaled = preprocessing.scale(N_dim_dataset)"
   ]
  },
  {
   "cell_type": "markdown",
   "id": "fa00b2ed",
   "metadata": {},
   "source": [
    "# Classifying via NN\n",
    "\n",
    "I chose the sklearn MPL classifier, because I am more used to the synthax of the package to call out the different quantities I need.\n",
    "\n",
    "## MPL Classifier"
   ]
  },
  {
   "cell_type": "markdown",
   "id": "38862142",
   "metadata": {},
   "source": [
    "- N-dimensional analysis"
   ]
  },
  {
   "cell_type": "code",
   "execution_count": 21,
   "id": "bcc4a37b",
   "metadata": {},
   "outputs": [
    {
     "name": "stdout",
     "output_type": "stream",
     "text": [
      "[(4, 5), (5, 1)]\n"
     ]
    }
   ],
   "source": [
    "clf = MLPClassifier(solver='adam', alpha=1e-5, \n",
    "                   hidden_layer_sizes=(5), \n",
    "                   random_state=1, max_iter=5000, learning_rate='constant', activation='relu')  # default lr for adam solver is already 0.001\n",
    "\n",
    "clf.fit(Xtrain_scaled, y_train)\n",
    "\n",
    "print([coef.shape for coef in clf.coefs_])  # looking at the weights \n",
    "\n",
    "y_pred = clf.predict(Xtest_scaled)"
   ]
  },
  {
   "cell_type": "markdown",
   "id": "4cb8ba90",
   "metadata": {},
   "source": [
    "Visualize classification on the different components:"
   ]
  },
  {
   "cell_type": "code",
   "execution_count": 22,
   "id": "13ba1f00",
   "metadata": {},
   "outputs": [
    {
     "data": {
      "image/png": "[encoded data removed]",
      "text/plain": [
       "<Figure size 864x720 with 4 Axes>"
      ]
     },
     "metadata": {
      "needs_background": "light"
     },
     "output_type": "display_data"
    }
   ],
   "source": [
    "fig, axs = plt.subplots(2, 2, figsize=(12, 10))\n",
    "\n",
    "for ax, xlabel, i in zip(axs.flatten(), labels, range(0, 4)):\n",
    "    \n",
    "    ax.hist(Xtest_scaled[:, i][y_pred==0], bins=50, histtype = 'step', label = 'galaxy', lw=1)\n",
    "    ax.hist(Xtest_scaled[:, i][y_pred==1], bins=50, histtype = 'step', label = 'quasar', lw=1)\n",
    "    ax.hist(Xtest_scaled[:, i], bins=50, label = 'data', color='blue', alpha=0.3)\n",
    "    ax.set_ylabel('counts')\n",
    "    ax.set_xlabel(xlabel)\n",
    "    ax.legend(fontsize=13)\n",
    "    \n",
    "plt.show()"
   ]
  },
  {
   "cell_type": "markdown",
   "id": "6a650d07",
   "metadata": {},
   "source": [
    "### ROC curve"
   ]
  },
  {
   "cell_type": "code",
   "execution_count": 23,
   "id": "aeb5fe89",
   "metadata": {},
   "outputs": [
    {
     "data": {
      "image/png": "[encoded data removed]",
      "text/plain": [
       "<Figure size 1008x504 with 2 Axes>"
      ]
     },
     "metadata": {
      "needs_background": "light"
     },
     "output_type": "display_data"
    }
   ],
   "source": [
    "y_score = [clf.predict_proba(Xtest_scaled)[:, 0], clf.predict_proba(Xtest_scaled)[:, 1]]\n",
    "\n",
    "det_und = [\"galaxy\", \"quasar\"]\n",
    "\n",
    "\n",
    "fig, axs = plt.subplots(1, 2, figsize=(14, 7))\n",
    "\n",
    "for i in range(0, 2):\n",
    "    \n",
    "    fpr, tpr, _ = roc_curve(y_test, y_score[i], pos_label=None, sample_weight=None, drop_intermediate=True)\n",
    "    roc_display = RocCurveDisplay(fpr=fpr, tpr=tpr).plot(ax=axs[i])\n",
    "    \n",
    "    axs[i].set_title(det_und[i])\n",
    "    axs[i].set_xlabel(\"False Positive Rate\")\n",
    "    axs[i].set_ylabel(\"True Positive Rate\")\n",
    "    \n",
    "axs[1].set_xlim(0, 0.04)  # the one used in the notebook\n",
    "\n",
    "    \n",
    "plt.tight_layout(pad=6.0)  # spacing between subplots\n",
    "\n",
    "plt.show()"
   ]
  },
  {
   "cell_type": "markdown",
   "id": "495f14f4",
   "metadata": {},
   "source": [
    "### Optimizing the classifier\n",
    "\n",
    "In this section I chose to optimize the classifier using GridSearchCV. I set the parameters trying to explore different orders of magnitude, and layer sizes.  "
   ]
  },
  {
   "cell_type": "code",
   "execution_count": 24,
   "id": "9b955ead",
   "metadata": {},
   "outputs": [
    {
     "data": {
      "text/plain": [
       "GridSearchCV(cv=4, estimator=MLPClassifier(max_iter=10000), n_jobs=-1,\n",
       "             param_grid={'activation': ['tanh', 'relu'],\n",
       "                         'alpha': [0.0001, 0.002, 0.05],\n",
       "                         'hidden_layer_sizes': [(5,), (10,), (5, 5)],\n",
       "                         'learning_rate': ['constant', 'adaptive'],\n",
       "                         'solver': ['sgd', 'adam']})"
      ]
     },
     "execution_count": 24,
     "metadata": {},
     "output_type": "execute_result"
    }
   ],
   "source": [
    "mlpc = MLPClassifier(max_iter=10000)  # keep max_iter low to avoid crash\n",
    "\n",
    "parameter_space = {\n",
    "    'hidden_layer_sizes': [(5,),(10,), (5,5)],\n",
    "    'activation': ['tanh', 'relu'],\n",
    "    'solver': ['sgd', 'adam'],\n",
    "    'alpha': [0.0001, 0.002, 0.05],\n",
    "    'learning_rate': ['constant','adaptive'],\n",
    "}\n",
    "\n",
    "\n",
    "clf = GridSearchCV(mlpc, parameter_space, n_jobs=-1, cv=4)\n",
    "\n",
    "clf.fit(Xtrain_scaled, y_train) "
   ]
  },
  {
   "cell_type": "code",
   "execution_count": 25,
   "id": "e5d5a51d",
   "metadata": {},
   "outputs": [
    {
     "name": "stdout",
     "output_type": "stream",
     "text": [
      "Best parameters found:\n",
      " {'activation': 'tanh', 'alpha': 0.0001, 'hidden_layer_sizes': (10,), 'learning_rate': 'adaptive', 'solver': 'adam'}\n"
     ]
    }
   ],
   "source": [
    "print('Best parameters found:\\n', clf.best_params_)"
   ]
  },
  {
   "cell_type": "markdown",
   "id": "88df8731",
   "metadata": {},
   "source": [
    "## Accuracy:"
   ]
  },
  {
   "cell_type": "code",
   "execution_count": 26,
   "id": "c701ba52",
   "metadata": {},
   "outputs": [],
   "source": [
    "def accuracy(confusion_matrix):\n",
    "        \n",
    "    diagonal_sum = confusion_matrix.trace()\n",
    "    sum_of_all_elements = confusion_matrix.sum()\n",
    "        \n",
    "    return diagonal_sum / sum_of_all_elements"
   ]
  },
  {
   "cell_type": "code",
   "execution_count": 27,
   "id": "58c12e2e",
   "metadata": {},
   "outputs": [],
   "source": [
    "cm = confusion_matrix(y_pred, y_test)"
   ]
  },
  {
   "cell_type": "code",
   "execution_count": 28,
   "id": "d2610086",
   "metadata": {},
   "outputs": [
    {
     "name": "stdout",
     "output_type": "stream",
     "text": [
      "Accuracy of MLPClassifier: 0.9818666666666667\n",
      "Confusion matrix: [[12733   169]\n",
      " [  103  1995]]\n"
     ]
    }
   ],
   "source": [
    "print(\"Accuracy of MLPClassifier:\", accuracy(cm))\n",
    "print(\"Confusion matrix:\", cm)"
   ]
  },
  {
   "cell_type": "markdown",
   "id": "ac9a63fb",
   "metadata": {},
   "source": [
    "It seems that using a neural network is getting better accuracy, even if by a 4%. I am finally trying to see if anything changes in the 1D analysis. "
   ]
  },
  {
   "cell_type": "markdown",
   "id": "c3990532",
   "metadata": {},
   "source": [
    "# 1-dimensional analysis"
   ]
  },
  {
   "cell_type": "code",
   "execution_count": 29,
   "id": "d552298f",
   "metadata": {},
   "outputs": [],
   "source": [
    "X_train_1d, X_test_1d, y_train_1d, y_test_1d = train_test_split(u_g, labels_z_o, test_size=0.3, random_state=1) "
   ]
  },
  {
   "cell_type": "code",
   "execution_count": 30,
   "id": "f56b49a0",
   "metadata": {},
   "outputs": [],
   "source": [
    "Xtrain_scaled_1d = preprocessing.scale(X_train_1d)\n",
    "Xtest_scaled_1d = preprocessing.scale(X_test_1d)\n",
    "X_scaled_1d = preprocessing.scale(u_g)"
   ]
  },
  {
   "cell_type": "code",
   "execution_count": 31,
   "id": "f1a67d94",
   "metadata": {},
   "outputs": [
    {
     "name": "stdout",
     "output_type": "stream",
     "text": [
      "[(1, 5), (5, 1)]\n"
     ]
    }
   ],
   "source": [
    "clf = MLPClassifier(solver='adam', alpha=1e-5, \n",
    "                   hidden_layer_sizes=(5), \n",
    "                   random_state=1, max_iter=5000, learning_rate='constant', activation='relu')  # default lr for adam solver is already 0.001\n",
    "\n",
    "clf.fit(Xtrain_scaled_1d.reshape(-1, 1), y_train_1d)\n",
    "\n",
    "print([coef.shape for coef in clf.coefs_])  # looking at the weights \n",
    "\n",
    "y_pred_1d = clf.predict(Xtest_scaled_1d.reshape(-1, 1))"
   ]
  },
  {
   "cell_type": "code",
   "execution_count": 32,
   "id": "6ba01f76",
   "metadata": {},
   "outputs": [
    {
     "data": {
      "text/plain": [
       "<matplotlib.legend.Legend at 0x7fe12236f7f0>"
      ]
     },
     "execution_count": 32,
     "metadata": {},
     "output_type": "execute_result"
    },
    {
     "data": {
      "image/png": "[encoded data removed]",
      "text/plain": [
       "<Figure size 432x288 with 1 Axes>"
      ]
     },
     "metadata": {
      "needs_background": "light"
     },
     "output_type": "display_data"
    }
   ],
   "source": [
    "plt.hist(Xtest_scaled_1d[:][y_pred_1d==0], bins=50, histtype = 'step', label = 'galaxy', lw=1)\n",
    "plt.hist(Xtest_scaled_1d[:][y_pred_1d==1], bins=50, histtype = 'step', label = 'quasar', lw=1)\n",
    "plt.hist(Xtest_scaled_1d[:], bins=50, label = 'data', color='blue', alpha=0.3)\n",
    "plt.ylabel('counts')\n",
    "plt.xlabel('u-g')\n",
    "plt.legend(fontsize=13)"
   ]
  },
  {
   "cell_type": "markdown",
   "id": "b1f01ab7",
   "metadata": {},
   "source": [
    "## Accuracy"
   ]
  },
  {
   "cell_type": "code",
   "execution_count": 33,
   "id": "9c628cfc",
   "metadata": {},
   "outputs": [],
   "source": [
    "cm_1d = confusion_matrix(y_pred_1d, y_test_1d)"
   ]
  },
  {
   "cell_type": "code",
   "execution_count": 34,
   "id": "5b606005",
   "metadata": {},
   "outputs": [
    {
     "name": "stdout",
     "output_type": "stream",
     "text": [
      "Accuracy of MLPClassifier: 0.9811333333333333\n",
      "Confusion matrix: [[12710   157]\n",
      " [  126  2007]]\n"
     ]
    }
   ],
   "source": [
    "print(\"Accuracy of MLPClassifier:\", accuracy(cm_1d))\n",
    "print(\"Confusion matrix:\", cm_1d)"
   ]
  }
 ],
 "metadata": {
  "kernelspec": {
   "display_name": "Python 3 (ipykernel)",
   "language": "python",
   "name": "python3"
  },
  "language_info": {
   "codemirror_mode": {
    "name": "ipython",
    "version": 3
   },
   "file_extension": ".py",
   "mimetype": "text/x-python",
   "name": "python",
   "nbconvert_exporter": "python",
   "pygments_lexer": "ipython3",
   "version": "3.9.7"
  }
 },
 "nbformat": 4,
 "nbformat_minor": 5
}
