{
 "cells": [
  {
   "cell_type": "markdown",
   "id": "02e2eb80-16ac-4b60-aa91-9f7fc51fd2a2",
   "metadata": {},
   "source": [
    "# Cloning quasars"
   ]
  },
  {
   "cell_type": "markdown",
   "id": "2f369c60-6375-48a1-b989-f83ac8ef9fd9",
   "metadata": {},
   "source": [
    "Let's look at the redshift distributions of the quasars in the Sloan Digital Sky Survey."
   ]
  },
  {
   "cell_type": "markdown",
   "id": "68d4b1c8-cb40-458c-beee-1bfaf8a09c4e",
   "metadata": {},
   "source": [
    "The Sloan Digital Sky Survey or SDSS is a major multi-spectral imaging and spectroscopic redshift survey using a dedicated 2.5-m wide-angle optical telescope at Apache Point Observatory in New Mexico, United States. Operations started in 1998.\n",
    "\n",
    "In phase 1, SDSS has released photometry data 357 million (!!!) unique sources and 1.6 million spectra. In phase 2, SDSS observed the same patch of the sky many times (\"time domain astronomy\", and now we're going to have LSST!)"
   ]
  },
  {
   "cell_type": "markdown",
   "id": "7beefe16-ae07-457e-b87b-e7503a82f535",
   "metadata": {},
   "source": [
    "![](https://classic.sdss.org/includes/sideimages/sdss_pie2.jpg)"
   ]
  },
  {
   "cell_type": "markdown",
   "id": "09d44019-1f78-454d-bdb9-b00f7f2adf46",
   "metadata": {},
   "source": [
    "Download the data on quasars from the SDSS: "
   ]
  },
  {
   "cell_type": "code",
   "execution_count": 1,
   "id": "d8756054-1d92-4f89-994f-e27600e7e5a2",
   "metadata": {},
   "outputs": [
    {
     "name": "stdout",
     "output_type": "stream",
     "text": [
      "Requirement already satisfied: astroML in /opt/anaconda3/lib/python3.9/site-packages (1.0.2.post1)\n",
      "Requirement already satisfied: scipy>=0.18 in /Users/nicolegrillo/.local/lib/python3.9/site-packages (from astroML) (1.9.3)\n",
      "Requirement already satisfied: astropy>=3.0 in /Users/nicolegrillo/.local/lib/python3.9/site-packages (from astroML) (5.2.1)\n",
      "Requirement already satisfied: numpy>=1.13 in /Users/nicolegrillo/.local/lib/python3.9/site-packages (from astroML) (1.23.5)\n",
      "Requirement already satisfied: matplotlib>=3.0 in /Users/nicolegrillo/.local/lib/python3.9/site-packages (from astroML) (3.6.3)\n",
      "Requirement already satisfied: scikit-learn>=0.18 in /opt/anaconda3/lib/python3.9/site-packages (from astroML) (0.24.2)\n",
      "Requirement already satisfied: packaging>=19.0 in /opt/anaconda3/lib/python3.9/site-packages (from astropy>=3.0->astroML) (21.0)\n",
      "Requirement already satisfied: pyerfa>=2.0 in /opt/anaconda3/lib/python3.9/site-packages (from astropy>=3.0->astroML) (2.0.0)\n",
      "Requirement already satisfied: PyYAML>=3.13 in /opt/anaconda3/lib/python3.9/site-packages (from astropy>=3.0->astroML) (6.0)\n",
      "Requirement already satisfied: cycler>=0.10 in /opt/anaconda3/lib/python3.9/site-packages (from matplotlib>=3.0->astroML) (0.10.0)\n",
      "Requirement already satisfied: fonttools>=4.22.0 in /opt/anaconda3/lib/python3.9/site-packages (from matplotlib>=3.0->astroML) (4.25.0)\n",
      "Requirement already satisfied: pillow>=6.2.0 in /opt/anaconda3/lib/python3.9/site-packages (from matplotlib>=3.0->astroML) (8.4.0)\n",
      "Requirement already satisfied: pyparsing>=2.2.1 in /opt/anaconda3/lib/python3.9/site-packages (from matplotlib>=3.0->astroML) (3.0.4)\n",
      "Requirement already satisfied: contourpy>=1.0.1 in /Users/nicolegrillo/.local/lib/python3.9/site-packages (from matplotlib>=3.0->astroML) (1.0.7)\n",
      "Requirement already satisfied: python-dateutil>=2.7 in /opt/anaconda3/lib/python3.9/site-packages (from matplotlib>=3.0->astroML) (2.8.2)\n",
      "Requirement already satisfied: kiwisolver>=1.0.1 in /opt/anaconda3/lib/python3.9/site-packages (from matplotlib>=3.0->astroML) (1.3.1)\n",
      "Requirement already satisfied: six in /opt/anaconda3/lib/python3.9/site-packages (from cycler>=0.10->matplotlib>=3.0->astroML) (1.16.0)\n",
      "Requirement already satisfied: joblib>=0.11 in /opt/anaconda3/lib/python3.9/site-packages (from scikit-learn>=0.18->astroML) (1.1.0)\n",
      "Requirement already satisfied: threadpoolctl>=2.0.0 in /opt/anaconda3/lib/python3.9/site-packages (from scikit-learn>=0.18->astroML) (2.2.0)\n",
      "Note: you may need to restart the kernel to use updated packages.\n"
     ]
    }
   ],
   "source": [
    "pip install astroML"
   ]
  },
  {
   "cell_type": "code",
   "execution_count": 2,
   "id": "148d8cc7-c0ef-4f9c-9a33-9bd81b7433f1",
   "metadata": {},
   "outputs": [],
   "source": [
    "from astroML.datasets import fetch_dr7_quasar\n",
    "\n",
    "# Fetch the quasar data\n",
    "data = fetch_dr7_quasar()\n",
    "\n",
    "# select the first 10000 points\n",
    "data = data[:10000]\n",
    "\n",
    "z = data['redshift']"
   ]
  },
  {
   "cell_type": "markdown",
   "id": "8d45dfce-1507-4f9f-9787-698cbf428202",
   "metadata": {},
   "source": [
    "- Upsample this distribution in two ways, using both rejection sampling and inverse transform.\n",
    "- Check, at least visually, that the two cloned distribitions are indeed similar to the observed one (for a quantitative check, come back to this point in a few lectures)\n",
    "\n",
    "(Hint: `scipy.stats` is your best friend)\n",
    "\n",
    "- Think about the cosmology of quasars. How do you think they are distributed? Overplot the theorethical distribution to the measured SDSS data \n",
    "\n",
    "(Hint: `astropy.cosmology` is another close friend). The best-fit cosmological model from the Plack data is:"
   ]
  },
  {
   "cell_type": "markdown",
   "id": "c8e7a0c1-2a13-4f1e-bf9b-4f46014da829",
   "metadata": {},
   "source": [
    "## Functions section:"
   ]
  },
  {
   "cell_type": "markdown",
   "id": "ded9c169-3fc5-4ce5-a6c7-ba89579bcb5e",
   "metadata": {},
   "source": [
    "- Rejection sampling"
   ]
  },
  {
   "cell_type": "code",
   "execution_count": 3,
   "id": "54321eb4-49cb-4ff1-b648-b404709a148c",
   "metadata": {},
   "outputs": [],
   "source": [
    "def find_bin_index(x_i, bins): \n",
    "    \n",
    "    index = 0\n",
    "        \n",
    "    for j in range(0, len(bins) - 1):  # I need to check to which bin x_i belongs\n",
    "            \n",
    "        if x_i > bins[j] and x_i < bins[j + 1]: \n",
    "                \n",
    "            index = j  # if I satisfy the \"if\" statement I save the bin index\n",
    "    \n",
    "    return index\n",
    "\n",
    "\n",
    "def rejection_sampling(z, N):\n",
    "    \n",
    "    counts, bins = np.histogram(z, 50, density = True)\n",
    "    x_i = uniform.rvs(0, np.max(z), N)  # I choose the proposal distribution to be the uniform one: \n",
    "    y_i = uniform.rvs(0, np.max(counts), N)  # I generate the y_i points uniformly \n",
    "    \n",
    "    bin_x_i = []  # this vector will serve to store the indexes of bins to evaluate f(x_i) from histogram\n",
    "    \n",
    "    for i in x_i: \n",
    "    \n",
    "        bin_x_i.append(find_bin_index(i, bins))\n",
    "    \n",
    "    return x_i[y_i < counts[bin_x_i]], y_i[y_i < counts[bin_x_i]]  # return only the values that fall below f(x_i)"
   ]
  },
  {
   "cell_type": "markdown",
   "id": "c40c5a19-c66e-408c-a709-c5c703e4cd46",
   "metadata": {},
   "source": [
    "- Inverse transfom sampling"
   ]
  },
  {
   "cell_type": "code",
   "execution_count": 24,
   "id": "6b402e79-967d-47d8-9cab-ac38d8ac06eb",
   "metadata": {},
   "outputs": [],
   "source": [
    "def quantile_function(z, N, quant): \n",
    "    \n",
    "    percentiles = [np.percentile(z, quant_i * 100) for quant_i in quant]\n",
    "    \n",
    "    return percentiles\n",
    "\n",
    "\n",
    "def inverse_transf_sampling(z, N): \n",
    "    \n",
    "    counts, bins = np.histogram(z, 50, density = True)\n",
    "    \n",
    "    us = uniform.rvs(0, 1, N)\n",
    "    x_i = quantile_function(z, N, us)\n",
    "    \n",
    "    # bin_x_i = []\n",
    "    # y_i = []\n",
    "    \n",
    "    # for i in x_i:\n",
    "    \n",
    "        # bin_x_i.append(find_bin_index(i, bins))\n",
    "        \n",
    "    # y_i = uniform.rvs(0, counts[bin_x_i])\n",
    "    \n",
    "    return x_i"
   ]
  },
  {
   "cell_type": "markdown",
   "id": "9f3d979e-ba83-406d-994d-45589dd0fe0c",
   "metadata": {},
   "source": [
    "## Solution section: "
   ]
  },
  {
   "cell_type": "markdown",
   "id": "d6c3c82d-0073-4119-94c7-405de340b28c",
   "metadata": {},
   "source": [
    "I first start to plot the distribution of zs: "
   ]
  },
  {
   "cell_type": "code",
   "execution_count": 5,
   "id": "336781df-738a-47f3-b6ef-d57e6e97bc1b",
   "metadata": {},
   "outputs": [],
   "source": [
    "import matplotlib.pyplot as plt\n",
    "import numpy as np\n",
    "from scipy.stats import uniform\n",
    "import timeit"
   ]
  },
  {
   "cell_type": "code",
   "execution_count": 6,
   "id": "74c061bf-998f-47ea-8c62-8cab38592b5d",
   "metadata": {},
   "outputs": [
    {
     "data": {
      "image/png": "[encoded data removed]",
      "text/plain": [
       "<Figure size 720x432 with 1 Axes>"
      ]
     },
     "metadata": {
      "needs_background": "light"
     },
     "output_type": "display_data"
    }
   ],
   "source": [
    "plt.figure(figsize=(10, 6))\n",
    "\n",
    "plt.hist(z, 50, histtype='barstacked', density=True, alpha=0.4, edgecolor='none', label='z distribution');\n",
    "\n",
    "plt.legend()\n",
    "plt.ylabel('Probability density')\n",
    "plt.xlabel('z range');"
   ]
  },
  {
   "cell_type": "markdown",
   "id": "3612f94a-b4a9-4165-81c6-118ad460bb71",
   "metadata": {},
   "source": [
    "Now I try to sample the distribution to create some new points to work with (upsample my original dataset). "
   ]
  },
  {
   "cell_type": "markdown",
   "id": "75c2a9aa-bc35-4aae-96f3-c9772f21081a",
   "metadata": {
    "tags": []
   },
   "source": [
    "### Rejection sampling: "
   ]
  },
  {
   "cell_type": "code",
   "execution_count": 7,
   "id": "7ecd078b-eac4-4411-ba0a-a936e3e583e9",
   "metadata": {},
   "outputs": [],
   "source": [
    "z_i, p_i = rejection_sampling(z, 10000)\n",
    "time_rej_samp = timeit.timeit()"
   ]
  },
  {
   "cell_type": "markdown",
   "id": "cd6bbdda-2067-4bd7-9a23-f7419780480e",
   "metadata": {},
   "source": [
    "Plot the found points to see if they are from the above distribution: "
   ]
  },
  {
   "cell_type": "code",
   "execution_count": 8,
   "id": "ca59ba0a-23fd-4de7-8861-01d22f97ff1e",
   "metadata": {},
   "outputs": [
    {
     "data": {
      "image/png": "[encoded data removed]",
      "text/plain": [
       "<Figure size 720x432 with 1 Axes>"
      ]
     },
     "metadata": {
      "needs_background": "light"
     },
     "output_type": "display_data"
    }
   ],
   "source": [
    "plt.figure(figsize=(10, 6))\n",
    "\n",
    "plt.hist(z, 50, histtype='barstacked', density=True, alpha=0.4, edgecolor='none', label='z distribution');\n",
    "plt.plot(z_i, p_i, '.', c = 'red', label='generated points', markersize=2.5)\n",
    "\n",
    "plt.legend()\n",
    "plt.ylabel('Probability density')\n",
    "plt.xlabel('z range');"
   ]
  },
  {
   "cell_type": "markdown",
   "id": "90205dfe-21b0-43a6-9c5e-351eae3e1244",
   "metadata": {
    "tags": []
   },
   "source": [
    "### Inverse transform sampling:"
   ]
  },
  {
   "cell_type": "markdown",
   "id": "6d1e0566-52de-4a20-9767-43f51b95b088",
   "metadata": {},
   "source": [
    "From a uniform distribution $\\in [0, 1]$ ($\\mathrm{U(x)}$) we want to generate a random number $\\textit{x}$, with cumulative function $\\mathrm{F_{U}(x)}$. "
   ]
  },
  {
   "cell_type": "code",
   "execution_count": 25,
   "id": "351bd8a7-0416-41a4-ad0f-d9cbdce20d2e",
   "metadata": {},
   "outputs": [],
   "source": [
    "z_cloned = inverse_transf_sampling(z, 10000)\n",
    "time_inv_tras_samp = timeit.timeit()"
   ]
  },
  {
   "cell_type": "code",
   "execution_count": 36,
   "id": "b33ae8ba-e807-4306-8a49-71e4b55da09f",
   "metadata": {},
   "outputs": [
    {
     "data": {
      "image/png": "[encoded data removed]",
      "text/plain": [
       "<Figure size 720x432 with 1 Axes>"
      ]
     },
     "metadata": {
      "needs_background": "light"
     },
     "output_type": "display_data"
    }
   ],
   "source": [
    "plt.figure(figsize=(10, 6))\n",
    "\n",
    "plt.hist(z, 50, histtype='barstacked', density=True, alpha=0.4, edgecolor='none', label='z distribution');\n",
    "plt.hist(z_cloned, 50, histtype='barstacked', density=True, alpha=0.4, edgecolor='none', label='generated z distribution')\n",
    "\n",
    "plt.legend()\n",
    "plt.ylabel('Probability density')\n",
    "plt.xlabel('z range');"
   ]
  },
  {
   "cell_type": "markdown",
   "id": "65ac8139-179c-45e7-ae93-9486866f8e8f",
   "metadata": {},
   "source": [
    "I want to see the computational time used by the two methods (same N): "
   ]
  },
  {
   "cell_type": "code",
   "execution_count": 27,
   "id": "90d9587c-b28b-41a1-a7f3-ad60419c23bd",
   "metadata": {},
   "outputs": [
    {
     "name": "stdout",
     "output_type": "stream",
     "text": [
      "inverse: 0.018071432001306675  rejection: 0.012097294000000147\n"
     ]
    }
   ],
   "source": [
    "print(\"inverse:\", time_inv_tras_samp, \" rejection:\", time_rej_samp)"
   ]
  },
  {
   "cell_type": "code",
   "execution_count": 28,
   "id": "db591242-20b5-45c2-aa94-15de9734b798",
   "metadata": {},
   "outputs": [
    {
     "name": "stdout",
     "output_type": "stream",
     "text": [
      "ratio:  1.493840854103939\n"
     ]
    }
   ],
   "source": [
    "print(\"ratio: \", time_inv_tras_samp/time_rej_samp)"
   ]
  },
  {
   "cell_type": "markdown",
   "id": "d440e6a8-44d8-4723-ad5c-8cb6623ff0f3",
   "metadata": {},
   "source": [
    "It's not that different but with the A/R method we throw away a considerable number of points while, with the other method we are always sure to extract a point that we can keep. "
   ]
  },
  {
   "cell_type": "markdown",
   "id": "c6af8b35-2b85-4979-9771-3b5f5052aacf",
   "metadata": {
    "tags": []
   },
   "source": [
    "## Physical discussion: "
   ]
  },
  {
   "cell_type": "markdown",
   "id": "1a96e95a-7162-4af9-ab3f-057b40887b1a",
   "metadata": {},
   "source": [
    "I decided to use the points I obtained via $\\textbf{inverse transform sampling}$, because they were more, and tried to do some statistics."
   ]
  },
  {
   "cell_type": "code",
   "execution_count": 29,
   "id": "03e3b2b6-e62f-464f-8289-0eb7818a074a",
   "metadata": {},
   "outputs": [],
   "source": [
    "cloned_z_tot = np.concatenate((z, z_cloned))"
   ]
  },
  {
   "cell_type": "code",
   "execution_count": 30,
   "id": "a4ea2067-ed21-4000-9320-9de39374891c",
   "metadata": {},
   "outputs": [
    {
     "data": {
      "text/plain": [
       "20000"
      ]
     },
     "execution_count": 30,
     "metadata": {},
     "output_type": "execute_result"
    }
   ],
   "source": [
    "len(cloned_z)  # twice as long as the original one"
   ]
  },
  {
   "cell_type": "markdown",
   "id": "c694fdc1-45d0-4a5e-b636-fa7bc6d0e794",
   "metadata": {},
   "source": [
    "Now I plot my \"new\" distribution: "
   ]
  },
  {
   "cell_type": "code",
   "execution_count": 31,
   "id": "622163e7-245f-475e-9255-070736e234aa",
   "metadata": {},
   "outputs": [
    {
     "data": {
      "image/png": "[encoded data removed]",
      "text/plain": [
       "<Figure size 720x432 with 1 Axes>"
      ]
     },
     "metadata": {
      "needs_background": "light"
     },
     "output_type": "display_data"
    }
   ],
   "source": [
    "plt.figure(figsize=(10, 6))\n",
    "\n",
    "plt.hist(cloned_z_tot, 50, histtype='barstacked', alpha=0.4, edgecolor='none', label='cloned z distribution'); # non normalized distribution\n",
    "plt.hist(z, 50, histtype='barstacked', alpha=0.4, edgecolor='none', label='z distribution');  # to compare with previous unnormalized one\n",
    "\n",
    "plt.legend()\n",
    "plt.ylabel('Probability density')\n",
    "plt.xlabel('z range');"
   ]
  },
  {
   "cell_type": "markdown",
   "id": "00c1215d-63b6-4d35-8ef8-48b76966851b",
   "metadata": {},
   "source": [
    "Cool. Now I try to evaluate the mean and understand the reasons fot it to be like that. "
   ]
  },
  {
   "cell_type": "code",
   "execution_count": 37,
   "id": "b149e3ea-e805-4a7a-977c-3dcc2f69e8b2",
   "metadata": {},
   "outputs": [],
   "source": [
    "c_z_mean = np.mean(cloned_z_tot)\n",
    "z_mean = np.mean(z)"
   ]
  },
  {
   "cell_type": "code",
   "execution_count": 38,
   "id": "0ecf4b73-73b2-4744-bce7-9f070f9b2b26",
   "metadata": {},
   "outputs": [
    {
     "name": "stdout",
     "output_type": "stream",
     "text": [
      "c_z_mean:  1.5601670498486437  z_mean:  1.5603399\n"
     ]
    }
   ],
   "source": [
    "print(\"c_z_mean: \", c_z_mean, \" z_mean: \", z_mean)"
   ]
  },
  {
   "cell_type": "markdown",
   "id": "a52c0e75-ca6f-401f-81d6-89502e1354b3",
   "metadata": {},
   "source": [
    "Why does it happen?"
   ]
  },
  {
   "cell_type": "markdown",
   "id": "13598ff5-9c3d-4a92-ba53-c320ceeb6660",
   "metadata": {},
   "source": [
    "Il meccanismo è usato anche per spiegare come mai i quasar fossero più comuni nell'Universo primitivo, perché la produzione di energia cessa quando il buco nero supermassiccio ha consumato tutto, gas, polveri e stelle, attorno a sé? (Wiki-source)"
   ]
  }
 ],
 "metadata": {
  "kernelspec": {
   "display_name": "Python 3 (ipykernel)",
   "language": "python",
   "name": "python3"
  },
  "language_info": {
   "codemirror_mode": {
    "name": "ipython",
    "version": 3
   },
   "file_extension": ".py",
   "mimetype": "text/x-python",
   "name": "python",
   "nbconvert_exporter": "python",
   "pygments_lexer": "ipython3",
   "version": "3.9.7"
  }
 },
 "nbformat": 4,
 "nbformat_minor": 5
}
