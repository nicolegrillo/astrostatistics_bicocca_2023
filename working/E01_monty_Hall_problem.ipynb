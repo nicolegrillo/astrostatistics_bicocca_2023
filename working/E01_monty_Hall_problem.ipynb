{
 "cells": [
  {
   "cell_type": "markdown",
   "id": "20a8b811-ced4-4532-94b8-c8e4c579e51c",
   "metadata": {},
   "source": [
    "# The Monty Hall problem"
   ]
  },
  {
   "cell_type": "markdown",
   "id": "eab0fda0-626f-4b31-a767-182f13a84004",
   "metadata": {},
   "source": [
    "The task is to simulate multiple times the Monty Hall problem. There are three doors: one contains a Lamborghini and the other two just goats. The presenter opens one of them and there's a goat; he then asks  if the players wants to switch. There are three contestants behaving in three different ways:\n",
    "\n",
    "+ A) chooses to keep it; \n",
    "+ B) chooses to switch ; \n",
    "+ C) enters and doesn't know of the previous moves: he chooses one door randomically between the remaining two;\n",
    "\n",
    "Simulate the problem multiple times and see which person has the biggest winning probability."
   ]
  },
  {
   "cell_type": "code",
   "execution_count": 1,
   "id": "bd9dfe20-a171-4936-819e-332cd51d5d1c",
   "metadata": {},
   "outputs": [],
   "source": [
    "import numpy as np"
   ]
  },
  {
   "cell_type": "code",
   "execution_count": 2,
   "id": "f64cd13e-8006-4985-9376-133fc0da98a4",
   "metadata": {},
   "outputs": [
    {
     "name": "stdout",
     "output_type": "stream",
     "text": [
      "How many doors?3\n"
     ]
    }
   ],
   "source": [
    "n_doors = int(input(\"How many doors?\"))"
   ]
  },
  {
   "cell_type": "code",
   "execution_count": 3,
   "id": "e8031bc5-a74d-4f5d-9b07-475298fc137e",
   "metadata": {},
   "outputs": [],
   "source": [
    "# first set the objects to put behind the doors (1 Lamborghini, the rest are goats)\n",
    "\n",
    "list_of_obj = [\"Lamborghini\"]\n",
    "\n",
    "for i in range(0, n_doors - 1): \n",
    "    \n",
    "    list_of_obj.append(\"goat\")"
   ]
  },
  {
   "cell_type": "code",
   "execution_count": 4,
   "id": "34ed73a2-f424-4826-bf8a-b6f4a33500d4",
   "metadata": {},
   "outputs": [],
   "source": [
    "# define functions to make choice\n",
    "\n",
    "def choices_A_B(doors, choice_index): \n",
    "    \n",
    "    index = []\n",
    "    \n",
    "    if doors[choice_index] != \"Lamborghini\":  \n",
    "    \n",
    "        return choice_index, np.where(doors == \"Lamborghini\")[0][0]  # returns A and B choices, respectively\n",
    "                \n",
    "    if doors[choice_index] == \"Lamborghini\": \n",
    "        \n",
    "        for i in range(0, len(doors)): \n",
    "        \n",
    "            if i != choice_index: \n",
    "            \n",
    "                index.append(i)\n",
    "        \n",
    "        hidden_goat = np.random.randint(0, len(doors) - 1)  # randomically chooses one goat-door to open \n",
    "            \n",
    "        return choice_index, index[hidden_goat]  # returns A and B choices, respectively"
   ]
  },
  {
   "cell_type": "code",
   "execution_count": 5,
   "id": "99b378e0-74da-49f1-8323-44cdcd10c0ee",
   "metadata": {},
   "outputs": [],
   "source": [
    "def choices_C(index_1, index_2): \n",
    "    \n",
    "    random_choice = np.random.randint(0, 2)  # player C chooses randomically between the two remaining doors \n",
    "    \n",
    "    if random_choice == 0: \n",
    "        \n",
    "        return index_1  # first door choice\n",
    "    \n",
    "    return index_2  # second door choice"
   ]
  },
  {
   "cell_type": "code",
   "execution_count": 6,
   "id": "0d178d16-8269-4c43-aae1-dec11a2d058d",
   "metadata": {},
   "outputs": [],
   "source": [
    "def won_lost(A, B, C): \n",
    "    \n",
    "    players = [\"A\", \"B\", \"C\"]\n",
    "    wins = {}\n",
    "    \n",
    "    # initial state\n",
    "    \n",
    "    wins[\"A\"] = \"lost\"\n",
    "    wins[\"B\"] = \"lost\"\n",
    "    wins[\"C\"] = \"lost\"\n",
    "    \n",
    "    # change the value of the state \"wins\" only if one of them has \"Lamborghini\" as prize\n",
    "    \n",
    "    if A == \"Lamborghini\": \n",
    "        \n",
    "        wins[\"A\"] = \"won\"\n",
    "        \n",
    "    if B == \"Lamborghini\": \n",
    "        \n",
    "        wins[\"B\"] = \"won\"\n",
    "        \n",
    "    if C == \"Lamborghini\": \n",
    "        \n",
    "        wins[\"C\"] = \"won\"\n",
    "        \n",
    "    return wins"
   ]
  },
  {
   "cell_type": "code",
   "execution_count": 7,
   "id": "7ca2ed61-730f-454b-8c0f-efc784db622a",
   "metadata": {},
   "outputs": [],
   "source": [
    "def how_many_wins(results_array):  # returns the counts of winnings from states \"won\"/\"lost\"\n",
    "    \n",
    "    counts = {\"A\": 0, \"B\": 0, \"C\": 0}\n",
    "    \n",
    "    for i in results_array: \n",
    "        \n",
    "        if results_array[i][\"A\"] == \"won\": \n",
    "            \n",
    "            counts[\"A\"] = counts[\"A\"] + 1\n",
    "            \n",
    "        if results_array[i][\"B\"] == \"won\": \n",
    "            \n",
    "            counts[\"B\"] = counts[\"B\"] + 1\n",
    "            \n",
    "        if results_array[i][\"C\"] == \"won\": \n",
    "            \n",
    "            counts[\"C\"] = counts[\"C\"] + 1\n",
    "            \n",
    "    return counts"
   ]
  },
  {
   "cell_type": "markdown",
   "id": "3d55559a-c866-4b59-99ed-3884235097a6",
   "metadata": {},
   "source": [
    "## Simulate the results:"
   ]
  },
  {
   "cell_type": "code",
   "execution_count": 8,
   "id": "81e5ee3f-b5e5-4345-8b82-5a8410e11d0f",
   "metadata": {},
   "outputs": [
    {
     "name": "stdout",
     "output_type": "stream",
     "text": [
      "How many times do I simulate?1000\n"
     ]
    }
   ],
   "source": [
    "n_simul = int(input(\"How many times do I simulate?\"))  # doing some stats on results"
   ]
  },
  {
   "cell_type": "code",
   "execution_count": 9,
   "id": "605905b6-7f34-4530-963e-991926915217",
   "metadata": {},
   "outputs": [],
   "source": [
    "results_array = {}\n",
    "doors = {}\n",
    "\n",
    "for i in range(0, n_simul):\n",
    "    \n",
    "    # set the objects randomically behind doors and choose one randomically:\n",
    "    \n",
    "    doors[f\"setting_{i}\"] = np.random.choice(list_of_obj, size=n_doors, replace=False)\n",
    "    initial_choice = np.random.randint(0, n_doors)\n",
    "    \n",
    "    # set the choices of A, B and C:\n",
    "    \n",
    "    choice_A, choice_B = choices_A_B(doors[f\"setting_{i}\"], initial_choice)\n",
    "    choice_C = choices_C(choice_A, choice_B)\n",
    "    \n",
    "    # evaluate their prize:\n",
    "    \n",
    "    choice_prize_A = doors[f\"setting_{i}\"][choice_A]\n",
    "    choice_prize_B = doors[f\"setting_{i}\"][choice_B]\n",
    "    choice_prize_C = doors[f\"setting_{i}\"][choice_C]\n",
    "    \n",
    "    \n",
    "    results_array[f\"{i}_attempt\"] = won_lost(choice_prize_A, choice_prize_B, choice_prize_C)  "
   ]
  },
  {
   "cell_type": "markdown",
   "id": "baac4e4f-5da6-4a5f-a986-19c4d770bdd3",
   "metadata": {},
   "source": [
    "Now I define a vector to store the outcomes in terms of wins and losses: "
   ]
  },
  {
   "cell_type": "code",
   "execution_count": 10,
   "id": "1c46605e-3e89-4f26-9aa9-a05ee900faa1",
   "metadata": {},
   "outputs": [],
   "source": [
    "total_wins = how_many_wins(results_array)"
   ]
  },
  {
   "cell_type": "markdown",
   "id": "09bc0993-edae-4691-9c36-9e09dc92e97d",
   "metadata": {},
   "source": [
    "Then I evaluate the total probability of the players: "
   ]
  },
  {
   "cell_type": "code",
   "execution_count": 11,
   "id": "d2e67a68-56c6-4cd4-ba20-d80d410c9518",
   "metadata": {},
   "outputs": [],
   "source": [
    "probability = {\"A\": total_wins[\"A\"] / n_simul, \"B\": total_wins[\"B\"] / n_simul, \"C\": total_wins[\"C\"] / n_simul}"
   ]
  },
  {
   "cell_type": "code",
   "execution_count": 12,
   "id": "1758ad26-4e03-4921-a359-eff12250671f",
   "metadata": {},
   "outputs": [
    {
     "name": "stdout",
     "output_type": "stream",
     "text": [
      "{'A': 0.328, 'B': 0.672, 'C': 0.475}\n"
     ]
    }
   ],
   "source": [
    "print(probability)"
   ]
  },
  {
   "cell_type": "markdown",
   "id": "e40d136e-cf1b-4dfa-8fc1-90bb032fe155",
   "metadata": {},
   "source": [
    "I'd definitely choose to be player B. If one chooses to have 100 doors instead of just 3, this is even more evident (to do so, one can change the n_doors in imput at line [$\\texttt{2}]$)."
   ]
  },
  {
   "cell_type": "markdown",
   "id": "14f0e587",
   "metadata": {},
   "source": [
    "## P(N)"
   ]
  },
  {
   "cell_type": "code",
   "execution_count": 13,
   "id": "eef4728a",
   "metadata": {},
   "outputs": [],
   "source": [
    "probab_N = {}\n",
    "results_array = {}\n",
    "doors = {}\n",
    "\n",
    "for n_doors in [3, 15, 35, 55, 100]:\n",
    "    \n",
    "    list_of_obj = [\"Lamborghini\"]\n",
    "\n",
    "    for i in range(0, n_doors - 1): \n",
    "    \n",
    "        list_of_obj.append(\"goat\")\n",
    "    \n",
    "    for i in range(10, 1000):  # set only 100 simul otherwise comput issues\n",
    "    \n",
    "        # set the objects randomically behind doors and choose one randomically:\n",
    "        \n",
    "        doors[f\"setting_{i}\"] = np.random.choice(list_of_obj, size=n_doors, replace=False)\n",
    "        initial_choice = np.random.randint(0, n_doors)\n",
    "        \n",
    "        # set the choices of A, B and C:\n",
    "        \n",
    "        choice_A, choice_B = choices_A_B(doors[f\"setting_{i}\"], initial_choice)\n",
    "        choice_C = choices_C(choice_A, choice_B)\n",
    "        \n",
    "        # evaluate their prize:\n",
    "        \n",
    "        choice_prize_A = doors[f\"setting_{i}\"][choice_A]\n",
    "        choice_prize_B = doors[f\"setting_{i}\"][choice_B]\n",
    "        choice_prize_C = doors[f\"setting_{i}\"][choice_C]\n",
    "        \n",
    "        \n",
    "        results_array[f\"{i}_attempt\"] = won_lost(choice_prize_A, choice_prize_B, choice_prize_C) \n",
    "    \n",
    "    total_wins = how_many_wins(results_array)\n",
    "    \n",
    "    probab_N[f\"{n_doors}\"] = [total_wins[\"A\"] / 1000, total_wins[\"B\"] / 1000, total_wins[\"C\"] / 1000]"
   ]
  },
  {
   "cell_type": "code",
   "execution_count": 14,
   "id": "d9214595",
   "metadata": {},
   "outputs": [
    {
     "data": {
      "image/png": "[encoded data removed]",
      "text/plain": [
       "<Figure size 720x576 with 1 Axes>"
      ]
     },
     "metadata": {
      "needs_background": "light"
     },
     "output_type": "display_data"
    }
   ],
   "source": [
    "import matplotlib.pyplot as plt\n",
    "\n",
    "plt.figure(figsize=(10, 8))\n",
    "\n",
    "for n_doors in [3, 15, 35, 55, 100]: \n",
    "\n",
    "    handleA = plt.plot(n_doors, probab_N[f\"{n_doors}\"][0], color='blue', marker='^', label='A')\n",
    "    handleB = plt.plot(n_doors, probab_N[f\"{n_doors}\"][1], color='red',  marker='^', label='B')\n",
    "    handleC = plt.plot(n_doors, probab_N[f\"{n_doors}\"][2], color='green',  marker='^', label='C')\n",
    "    \n",
    "plt.xlabel('N doors')\n",
    "plt.ylabel('p(N)')\n",
    "plt.legend(handles=[handleA[0], handleB[0], handleC[0]], fontsize=15, bbox_to_anchor=(1.1, 1.), loc='center');"
   ]
  },
  {
   "cell_type": "markdown",
   "id": "55d719ba",
   "metadata": {},
   "source": [
    "From this plot it should be even clearer than choosing like the \"B\" person is always best. "
   ]
  }
 ],
 "metadata": {
  "kernelspec": {
   "display_name": "Python 3 (ipykernel)",
   "language": "python",
   "name": "python3"
  },
  "language_info": {
   "codemirror_mode": {
    "name": "ipython",
    "version": 3
   },
   "file_extension": ".py",
   "mimetype": "text/x-python",
   "name": "python",
   "nbconvert_exporter": "python",
   "pygments_lexer": "ipython3",
   "version": "3.9.7"
  }
 },
 "nbformat": 4,
 "nbformat_minor": 5
}
