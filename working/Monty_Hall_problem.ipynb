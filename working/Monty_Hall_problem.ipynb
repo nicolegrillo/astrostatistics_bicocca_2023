{
 "cells": [
  {
   "cell_type": "markdown",
   "id": "ca848a7b-6f19-4bdf-8368-2d19e508cc40",
   "metadata": {},
   "source": [
    "The task is to simulate multiple times the Monty Hall problem. There are three doors: one conatins a Lamborghini and the other two just goats. The presenter opens one of them and there's a goat; he then asks  if the contestant wants to switch. There are three people behaving in three different ways:\n",
    "\n",
    "+ A) chooses to keep it; \n",
    "+ B) chooses to switch ; \n",
    "+ C) enters and doesn't know of the previous moves: he chooses one door randomically;\n",
    "\n",
    "Simulate the problem multiple times and see which contestant has the biggest winning probability. "
   ]
  },
  {
   "cell_type": "code",
   "execution_count": 1,
   "id": "d28c9a03-e3af-4653-8a7b-7503f8a27afb",
   "metadata": {},
   "outputs": [],
   "source": [
    "import numpy as np"
   ]
  },
  {
   "cell_type": "code",
   "execution_count": 2,
   "id": "f11e1030-78f9-4889-921e-0c9bb2e338f7",
   "metadata": {},
   "outputs": [
    {
     "name": "stdin",
     "output_type": "stream",
     "text": [
      "How many doors? 3\n"
     ]
    }
   ],
   "source": [
    "n_doors = int(input(\"How many doors?\"))"
   ]
  },
  {
   "cell_type": "code",
   "execution_count": 3,
   "id": "a5709ce4-5356-44a2-b0df-0700fa43db1c",
   "metadata": {},
   "outputs": [],
   "source": [
    "# start by setting the variables I need\n",
    "\n",
    "players = {}\n",
    "doors = {}\n",
    "list_of_obj = [\"goat\", \"goat\", \"Lamborghini\"]"
   ]
  },
  {
   "cell_type": "markdown",
   "id": "7cfd4fa1-717b-407f-b8cd-df18dda883fe",
   "metadata": {},
   "source": [
    "I will first define the functions I will use: "
   ]
  },
  {
   "cell_type": "code",
   "execution_count": 4,
   "id": "cbf19e23-b8b3-4fa0-9469-05a63f3eb765",
   "metadata": {},
   "outputs": [],
   "source": [
    "def where_is_goat(array, choice_index): \n",
    "    \n",
    "    for i in range(0, len(array)): \n",
    "        \n",
    "        if array[i] == \"goat\" and i != choice_index: \n",
    "            \n",
    "            index = i\n",
    "            \n",
    "    return index"
   ]
  },
  {
   "cell_type": "code",
   "execution_count": 5,
   "id": "c528db88-b4a0-47bc-b0fa-45f4d076a5ea",
   "metadata": {},
   "outputs": [],
   "source": [
    "def choice_3rd_person(array, index_goat, index_1st_person): \n",
    "    \n",
    "    for i in range(0, len(array)): \n",
    "        \n",
    "        if i != index_goat and i != index_1st_person: \n",
    "            \n",
    "            index = i\n",
    "            \n",
    "    return index"
   ]
  },
  {
   "cell_type": "code",
   "execution_count": 6,
   "id": "2f480fa5-d95a-446a-ad40-8f639bf5ad33",
   "metadata": {},
   "outputs": [],
   "source": [
    "def won_lost(A, B, C): \n",
    "    \n",
    "    players = [\"A\", \"B\", \"C\"]\n",
    "    wins = {}\n",
    "    \n",
    "    wins[\"A\"] = \"lost\"\n",
    "    wins[\"B\"] = \"lost\"\n",
    "    wins[\"C\"] = \"lost\"\n",
    "    \n",
    "    if A == \"Lamborghini\": \n",
    "        \n",
    "        wins[\"A\"] = \"won\"\n",
    "        \n",
    "    if B == \"Lamborghini\": \n",
    "        \n",
    "        wins[\"B\"] = \"won\"\n",
    "        \n",
    "    if C == \"Lamborghini\": \n",
    "        \n",
    "        wins[\"C\"] = \"won\"\n",
    "        \n",
    "    return wins"
   ]
  },
  {
   "cell_type": "code",
   "execution_count": 7,
   "id": "b5dbdf0a-7669-4f82-b730-406e8f4ef7ad",
   "metadata": {},
   "outputs": [],
   "source": [
    "def how_many_wins(results_array):\n",
    "    \n",
    "    counts = {\"A\": 0, \"B\": 0, \"C\": 0}\n",
    "    \n",
    "    for i in results_array: \n",
    "        \n",
    "        if results_array[i][\"A\"] == \"won\": \n",
    "            \n",
    "            counts[\"A\"] = counts[\"A\"] + 1\n",
    "            \n",
    "        if results_array[i][\"B\"] == \"won\": \n",
    "            \n",
    "            counts[\"B\"] = counts[\"B\"] + 1\n",
    "            \n",
    "        if results_array[i][\"C\"] == \"won\": \n",
    "            \n",
    "            counts[\"C\"] = counts[\"C\"] + 1\n",
    "            \n",
    "    return counts"
   ]
  },
  {
   "cell_type": "markdown",
   "id": "9b1958a3-9423-453e-a407-05be600a5f90",
   "metadata": {},
   "source": [
    "The code will return an array containing all the attempts: each has the name of the contestant and their status of victory or loss. "
   ]
  },
  {
   "cell_type": "code",
   "execution_count": 24,
   "id": "8cabb595-76f1-4de1-86d2-a4132617b0fd",
   "metadata": {},
   "outputs": [],
   "source": [
    "results_array = {}\n",
    "\n",
    "for i in range(0, 1000):\n",
    "    \n",
    "    doors[f\"setting_{i}\"] = np.random.choice(list_of_obj, size=n_doors, replace=False)\n",
    "    initial_choice = np.random.randint(0, n_doors)\n",
    "    \n",
    "    goat_door_index = where_is_goat(doors[f\"setting_{i}\"], initial_choice)\n",
    "    \n",
    "    choice_prize_A = doors[f\"setting_{i}\"][initial_choice]\n",
    "    choice_prize_B = doors[f\"setting_{i}\"][choice_3rd_person(doors[f\"setting_{i}\"], goat_door_index, initial_choice)]\n",
    "    choice_prize_C = doors[f\"setting_{i}\"][np.random.randint(0, n_doors)]\n",
    "    \n",
    "    \n",
    "    results_array[f\"{i}_attempt\"] = won_lost(choice_prize_A, choice_prize_B, choice_prize_C)\n",
    "    "
   ]
  },
  {
   "cell_type": "code",
   "execution_count": 25,
   "id": "a09208e7-c5a7-43e9-83bb-cc22b063793d",
   "metadata": {},
   "outputs": [],
   "source": [
    "total_wins = how_many_wins(results_array)"
   ]
  },
  {
   "cell_type": "code",
   "execution_count": 26,
   "id": "888fcf1b-db97-41f8-8242-2a8e32596254",
   "metadata": {},
   "outputs": [
    {
     "name": "stdout",
     "output_type": "stream",
     "text": [
      "{'A': 319, 'B': 681, 'C': 356}\n"
     ]
    }
   ],
   "source": [
    "print(total_wins)"
   ]
  },
  {
   "cell_type": "markdown",
   "id": "8ac8ddf6-ba3b-4450-b8ea-94366762cf4f",
   "metadata": {},
   "source": [
    "We see that the total wins for the simulations indicate that $B$ has an advantage in choosing to switch. "
   ]
  }
 ],
 "metadata": {
  "kernelspec": {
   "display_name": "Python 3 (ipykernel)",
   "language": "python",
   "name": "python3"
  },
  "language_info": {
   "codemirror_mode": {
    "name": "ipython",
    "version": 3
   },
   "file_extension": ".py",
   "mimetype": "text/x-python",
   "name": "python",
   "nbconvert_exporter": "python",
   "pygments_lexer": "ipython3",
   "version": "3.9.7"
  }
 },
 "nbformat": 4,
 "nbformat_minor": 5
}
