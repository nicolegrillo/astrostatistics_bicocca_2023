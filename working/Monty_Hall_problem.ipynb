{
 "cells": [
  {
   "cell_type": "markdown",
   "id": "20a8b811-ced4-4532-94b8-c8e4c579e51c",
   "metadata": {},
   "source": [
    "# The Monty Hall problem"
   ]
  },
  {
   "cell_type": "markdown",
   "id": "eab0fda0-626f-4b31-a767-182f13a84004",
   "metadata": {},
   "source": [
    "The task is to simulate multiple times the Monty Hall problem. There are three doors: one contains a Lamborghini and the other two just goats. The presenter opens one of them and there's a goat; he then asks  if the players wants to switch. There are three contestants behaving in three different ways:\n",
    "\n",
    "+ A) chooses to keep it; \n",
    "+ B) chooses to switch ; \n",
    "+ C) enters and doesn't know of the previous moves: he chooses one door randomically between the remaining two;\n",
    "\n",
    "Simulate the problem multiple times and see which person has the biggest winning probability."
   ]
  },
  {
   "cell_type": "code",
   "execution_count": 1,
   "id": "bd9dfe20-a171-4936-819e-332cd51d5d1c",
   "metadata": {},
   "outputs": [],
   "source": [
    "import numpy as np"
   ]
  },
  {
   "cell_type": "code",
   "execution_count": 2,
   "id": "f64cd13e-8006-4985-9376-133fc0da98a4",
   "metadata": {},
   "outputs": [
    {
     "name": "stdin",
     "output_type": "stream",
     "text": [
      "How many doors? 3\n"
     ]
    }
   ],
   "source": [
    "n_doors = int(input(\"How many doors?\"))"
   ]
  },
  {
   "cell_type": "code",
   "execution_count": 3,
   "id": "e8031bc5-a74d-4f5d-9b07-475298fc137e",
   "metadata": {},
   "outputs": [],
   "source": [
    "# first set the objects to put behind the doors\n",
    "\n",
    "list_of_obj = [\"Lamborghini\"]\n",
    "\n",
    "for i in range(0, n_doors - 1): \n",
    "    \n",
    "    list_of_obj.append(\"goat\")"
   ]
  },
  {
   "cell_type": "markdown",
   "id": "a0ebd42c-df6b-4843-b949-056a2127b172",
   "metadata": {},
   "source": [
    "## Functions section "
   ]
  },
  {
   "cell_type": "code",
   "execution_count": 4,
   "id": "34ed73a2-f424-4826-bf8a-b6f4a33500d4",
   "metadata": {},
   "outputs": [],
   "source": [
    "def choices_A_B(doors, choice_index): \n",
    "    \n",
    "    index = []\n",
    "    \n",
    "    if doors[choice_index] != \"Lamborghini\":  \n",
    "    \n",
    "        return choice_index, np.where(doors == \"Lamborghini\")[0][0]\n",
    "                \n",
    "    if doors[choice_index] == \"Lamborghini\": \n",
    "        \n",
    "        for i in range(0, len(doors)): \n",
    "        \n",
    "            if i != choice_index: \n",
    "            \n",
    "                index.append(i)\n",
    "        \n",
    "        hidden_goat = np.random.randint(0, len(doors) - 1)\n",
    "            \n",
    "        return choice_index, index[hidden_goat]"
   ]
  },
  {
   "cell_type": "code",
   "execution_count": 5,
   "id": "99b378e0-74da-49f1-8323-44cdcd10c0ee",
   "metadata": {},
   "outputs": [],
   "source": [
    "def choices_C(index_1, index_2): \n",
    "    \n",
    "    random_choice = np.random.randint(0, 2)\n",
    "    \n",
    "    # print(random_choice)\n",
    "    \n",
    "    if random_choice == 0: \n",
    "        \n",
    "        return index_1\n",
    "    \n",
    "    return index_2"
   ]
  },
  {
   "cell_type": "code",
   "execution_count": 6,
   "id": "0d178d16-8269-4c43-aae1-dec11a2d058d",
   "metadata": {},
   "outputs": [],
   "source": [
    "def won_lost(A, B, C): \n",
    "    \n",
    "    players = [\"A\", \"B\", \"C\"]\n",
    "    wins = {}\n",
    "    \n",
    "    wins[\"A\"] = \"lost\"\n",
    "    wins[\"B\"] = \"lost\"\n",
    "    wins[\"C\"] = \"lost\"\n",
    "    \n",
    "    if A == \"Lamborghini\": \n",
    "        \n",
    "        wins[\"A\"] = \"won\"\n",
    "        \n",
    "    if B == \"Lamborghini\": \n",
    "        \n",
    "        wins[\"B\"] = \"won\"\n",
    "        \n",
    "    if C == \"Lamborghini\": \n",
    "        \n",
    "        wins[\"C\"] = \"won\"\n",
    "        \n",
    "    return wins"
   ]
  },
  {
   "cell_type": "code",
   "execution_count": 7,
   "id": "7ca2ed61-730f-454b-8c0f-efc784db622a",
   "metadata": {},
   "outputs": [],
   "source": [
    "def how_many_wins(results_array):\n",
    "    \n",
    "    counts = {\"A\": 0, \"B\": 0, \"C\": 0}\n",
    "    \n",
    "    for i in results_array: \n",
    "        \n",
    "        if results_array[i][\"A\"] == \"won\": \n",
    "            \n",
    "            counts[\"A\"] = counts[\"A\"] + 1\n",
    "            \n",
    "        if results_array[i][\"B\"] == \"won\": \n",
    "            \n",
    "            counts[\"B\"] = counts[\"B\"] + 1\n",
    "            \n",
    "        if results_array[i][\"C\"] == \"won\": \n",
    "            \n",
    "            counts[\"C\"] = counts[\"C\"] + 1\n",
    "            \n",
    "    return counts"
   ]
  },
  {
   "cell_type": "markdown",
   "id": "3d55559a-c866-4b59-99ed-3884235097a6",
   "metadata": {},
   "source": [
    "## Simulation section"
   ]
  },
  {
   "cell_type": "code",
   "execution_count": 8,
   "id": "81e5ee3f-b5e5-4345-8b82-5a8410e11d0f",
   "metadata": {},
   "outputs": [
    {
     "name": "stdin",
     "output_type": "stream",
     "text": [
      "How many times do I simulate? 10000\n"
     ]
    }
   ],
   "source": [
    "n_simul = int(input(\"How many times do I simulate?\"))"
   ]
  },
  {
   "cell_type": "code",
   "execution_count": 10,
   "id": "605905b6-7f34-4530-963e-991926915217",
   "metadata": {},
   "outputs": [],
   "source": [
    "results_array = {}\n",
    "doors = {}\n",
    "\n",
    "for i in range(0, n_simul):\n",
    "    \n",
    "    doors[f\"setting_{i}\"] = np.random.choice(list_of_obj, size=n_doors, replace=False)\n",
    "    initial_choice = np.random.randint(0, n_doors)\n",
    "    \n",
    "    choice_A, choice_B = choices_A_B(doors[f\"setting_{i}\"], initial_choice)\n",
    "    choice_C = choices_C(choice_A, choice_B)\n",
    "    \n",
    "    choice_prize_A = doors[f\"setting_{i}\"][choice_A]\n",
    "    choice_prize_B = doors[f\"setting_{i}\"][choice_B]\n",
    "    choice_prize_C = doors[f\"setting_{i}\"][choice_C]\n",
    "    \n",
    "    \n",
    "    results_array[f\"{i}_attempt\"] = won_lost(choice_prize_A, choice_prize_B, choice_prize_C)  "
   ]
  },
  {
   "cell_type": "markdown",
   "id": "baac4e4f-5da6-4a5f-a986-19c4d770bdd3",
   "metadata": {},
   "source": [
    "Now I define a vector to store the outcomes in terms of wins and losses: "
   ]
  },
  {
   "cell_type": "code",
   "execution_count": 11,
   "id": "1c46605e-3e89-4f26-9aa9-a05ee900faa1",
   "metadata": {},
   "outputs": [],
   "source": [
    "total_wins = how_many_wins(results_array)"
   ]
  },
  {
   "cell_type": "markdown",
   "id": "09bc0993-edae-4691-9c36-9e09dc92e97d",
   "metadata": {},
   "source": [
    "Then I evaluate the total probability of the players: "
   ]
  },
  {
   "cell_type": "code",
   "execution_count": 12,
   "id": "d2e67a68-56c6-4cd4-ba20-d80d410c9518",
   "metadata": {},
   "outputs": [],
   "source": [
    "probability = [total_wins[\"A\"] / n_simul, total_wins[\"B\"] / n_simul, total_wins[\"C\"] / n_simul]"
   ]
  },
  {
   "cell_type": "code",
   "execution_count": 13,
   "id": "1758ad26-4e03-4921-a359-eff12250671f",
   "metadata": {},
   "outputs": [
    {
     "name": "stdout",
     "output_type": "stream",
     "text": [
      "[0.3307, 0.6693, 0.4992]\n"
     ]
    }
   ],
   "source": [
    "print(probability)"
   ]
  },
  {
   "cell_type": "markdown",
   "id": "e40d136e-cf1b-4dfa-8fc1-90bb032fe155",
   "metadata": {},
   "source": [
    "I'd definitely choose to be player B. If one chooses to have 100 doors instead of just 3, this is even more evident (to do so, one can change the n_doors in imput at line [2])."
   ]
  }
 ],
 "metadata": {
  "kernelspec": {
   "display_name": "Python 3 (ipykernel)",
   "language": "python",
   "name": "python3"
  },
  "language_info": {
   "codemirror_mode": {
    "name": "ipython",
    "version": 3
   },
   "file_extension": ".py",
   "mimetype": "text/x-python",
   "name": "python",
   "nbconvert_exporter": "python",
   "pygments_lexer": "ipython3",
   "version": "3.9.7"
  }
 },
 "nbformat": 4,
 "nbformat_minor": 5
}
