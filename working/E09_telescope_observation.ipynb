{
 "cells": [
  {
   "cell_type": "markdown",
   "id": "820cdba9",
   "metadata": {},
   "source": [
    "# MCMC: planning a telescope observation. "
   ]
  },
  {
   "cell_type": "markdown",
   "id": "a832f7aa",
   "metadata": {},
   "source": [
    "You want to know how likely it is that tomorrow night will be clear given the weather tonight (clear or cloudy). The key piece of information here is that the weather tomorrow depends on the weather today. From past history, you know that:\n",
    "\n",
    "$$p({\\rm clear \\; tomorrow} \\, |\\,  {\\rm cloudy \\; today}) = 0.5,$$\n",
    "\n",
    "which means that\n",
    "\n",
    "$$p({\\rm cloudy \\; tomorrow} \\, |\\, {\\rm cloudy \\; today}) = 0.5.$$\n",
    "\n",
    "We also have\n",
    "\n",
    "$$p({\\rm cloudy \\; tomorrow} \\, |\\, {\\rm clear \\; today}) = 0.1,$$\n",
    "\n",
    "which means that\n",
    "\n",
    "$$p({\\rm clear \\; tomorrow} \\, |\\, {\\rm clear \\; today}) = 0.9.$$\n",
    "\n",
    "\n",
    "- We can start with the sky conditions today and make predictions going forward more and more into the future.\n",
    "- This will look like a big decision tree. \n",
    "- After enough days, we'll reach equilibrium probabilities that have to do with the mean weather statistics (ignoring seasons) and we'll arrive at\n",
    "\n",
    "$$p({\\rm clear}) = 0.83,$$\n",
    "\n",
    "and \n",
    "\n",
    "$$p({\\rm cloudy}) = 0.17.$$\n",
    "\n",
    "You get the same answer for day $N$ as day $N+1$ and it doesn't matter whether it was clear or cloudy on the day that you started. The steps that we have taken in this process are, indeed, a **MARKOV CHAIN**.\n",
    "\n",
    "\n",
    "#### Tasks\n",
    "\n",
    "- Start off on a cloud day. \n",
    "- Implement your weather forecast based on the above probabilities\n",
    "- Run your simulator for N days (with $N\\gtrsim 10^4$)\n",
    "- Prepare a plot with the number of days on the x axis and the cumulative number of, say, sunny days over the number of days so far on the y axis. This is called a **trace-plot**, showing how our estimate of $p(\\mathrm{clear})$ evolves as the chain samples.  \n",
    "- Prepare a histogram of the above plot. This reveals the distribution of $p(\\mathrm{clear})$.\n",
    "- Use a summary statistics to determine the most likely value and an error on our estimate.\n",
    "\n",
    "**Important:** \n",
    "- In MCMC the process must be **stationary** which basically means that the chain statistics look the same no matter which chunk you look at, e.g. first half, second half, or every other point, etc.  \n",
    "- Obviously that isn't going to be the case in the early steps of the chain. In our example above, after some time the process was stationary, but not in the first few days.\n",
    "- So, there is a **burn-in** phase that needs to be discarded. How one determines the number of early steps to discard as burn-in is tricky, but ***you should always start with a traceplot of your samples!***"
   ]
  },
  {
   "cell_type": "markdown",
   "id": "e90e095e",
   "metadata": {},
   "source": [
    "#### Tasks\n",
    "\n",
    "- In the above example, experiment with chopping off different numbers of initial points as burn-in."
   ]
  },
  {
   "cell_type": "code",
   "execution_count": 1,
   "id": "0c5ebd47",
   "metadata": {},
   "outputs": [],
   "source": [
    "import scipy as sp\n",
    "from scipy.stats import norm, uniform\n",
    "import matplotlib.pyplot as plt\n",
    "import numpy as np"
   ]
  },
  {
   "cell_type": "code",
   "execution_count": 2,
   "id": "8bbd6c62",
   "metadata": {},
   "outputs": [],
   "source": [
    "# set the known probabilities\n",
    "\n",
    "p_clear = 0.83\n",
    "p_cloudy = 0.17\n",
    "\n",
    "p_clear_tom_cloudy_tod = 0.5\n",
    "p_cloudy_tom_cloudy_tod = 0.5\n",
    "\n",
    "p_cloudy_tom_clear_tod = 0.1\n",
    "p_clear_tom_clear_tod = 0.9\n",
    "\n",
    "N_samples = 100000  # days"
   ]
  },
  {
   "cell_type": "markdown",
   "id": "d750a555",
   "metadata": {},
   "source": [
    "### Define the functions: \n",
    "I set $0$ for clear days and $1$ for cloudy days: "
   ]
  },
  {
   "cell_type": "code",
   "execution_count": 3,
   "id": "e5cd915c",
   "metadata": {},
   "outputs": [],
   "source": [
    "def WeatherProbabilities(current_weather, proposed_weather): \n",
    "    \n",
    "    if current_weather == 1: \n",
    "        \n",
    "        return 0.5  # p_clear_tom_cloudy_tod\n",
    "    \n",
    "    if current_weather == 0: \n",
    "        \n",
    "        if proposed_weather == 1: \n",
    "            \n",
    "            return 0.1  # p_cloudy_tom_clear_tod\n",
    "        \n",
    "        if proposed_weather == 0: \n",
    "            \n",
    "            return 0.9  # p_clear_tom_clear_tod"
   ]
  },
  {
   "cell_type": "code",
   "execution_count": 4,
   "id": "1857c23e",
   "metadata": {},
   "outputs": [],
   "source": [
    "def WeatherForecast(samples=N_samples, init_weather=1, plot=False):\n",
    "    \n",
    "    current_weather = init_weather\n",
    "    post = [init_weather]\n",
    "    \n",
    "    for i in range(samples):\n",
    "        \n",
    "        proposed_weather = np.random.randint(0, 2)\n",
    "        \n",
    "        # evaluating probability of \n",
    "        p_accept = WeatherProbabilities(current_weather, proposed_weather)\n",
    "        \n",
    "    \n",
    "        # Accept if p_accept > 1 (since random limited to [0,1]) and if p_accept > rand as well\n",
    "        accept = uniform.rvs() < p_accept\n",
    "        \n",
    "        \n",
    "        if accept:\n",
    "            # Update position\n",
    "            current_weather = proposed_weather\n",
    "        \n",
    "        post.append(current_weather)\n",
    "        \n",
    "    return np.array(post)"
   ]
  },
  {
   "cell_type": "code",
   "execution_count": 5,
   "id": "a7ec1bf0",
   "metadata": {},
   "outputs": [],
   "source": [
    "posterior = WeatherForecast()"
   ]
  },
  {
   "cell_type": "code",
   "execution_count": 6,
   "id": "120f374b",
   "metadata": {},
   "outputs": [],
   "source": [
    "prob_clear = np.count_nonzero(posterior == 0) / len(posterior)"
   ]
  },
  {
   "cell_type": "code",
   "execution_count": 7,
   "id": "f52173df",
   "metadata": {},
   "outputs": [],
   "source": [
    "prob_cloudy = np.count_nonzero(posterior == 1) / len(posterior)"
   ]
  },
  {
   "cell_type": "code",
   "execution_count": 8,
   "id": "7e2a2f72",
   "metadata": {},
   "outputs": [
    {
     "name": "stdout",
     "output_type": "stream",
     "text": [
      "Cloudy:  16.455835441645583 %\n",
      "Clear:  83.54416455835441 %\n"
     ]
    }
   ],
   "source": [
    "print(\"Cloudy: \", prob_cloudy * 100, \"%\")\n",
    "print(\"Clear: \", prob_clear * 100, \"%\")"
   ]
  },
  {
   "cell_type": "markdown",
   "id": "d1d51582",
   "metadata": {},
   "source": [
    "Let's see the MCMC trace: "
   ]
  },
  {
   "cell_type": "code",
   "execution_count": 9,
   "id": "a6455e92",
   "metadata": {},
   "outputs": [],
   "source": [
    "n_days = np.arange(1, N_samples)\n",
    "trace_p_clear = np.array([ float(np.count_nonzero(posterior[:i] == 0) / n_days[i]) for i in range(0, len(n_days))])\n",
    "trace_p_cloudy = np.array([ float(np.count_nonzero(posterior[:i] == 1) / n_days[i]) for i in range(0, len(n_days))])"
   ]
  },
  {
   "cell_type": "code",
   "execution_count": 10,
   "id": "aa718bcd",
   "metadata": {
    "scrolled": false
   },
   "outputs": [
    {
     "data": {
      "image/png": "[encoded data removed]",
      "text/plain": [
       "<Figure size 720x468 with 1 Axes>"
      ]
     },
     "metadata": {
      "needs_background": "light"
     },
     "output_type": "display_data"
    }
   ],
   "source": [
    "plt.figure(figsize = (10, 6.5))\n",
    "plt.plot(n_days, trace_p_clear, color = 'aquamarine', label=\"$p_{clear}$\");\n",
    "plt.plot(n_days, trace_p_cloudy, color = 'orange', label=\"$p_{cloudy}$\");\n",
    "plt.ylabel('$p(N)$')\n",
    "plt.xlabel('$N_{days}$')\n",
    "plt.suptitle(\"Traces of $p_{clear}$ and $p_{cloudy}$\")\n",
    "plt.legend();"
   ]
  },
  {
   "cell_type": "markdown",
   "id": "400868f7",
   "metadata": {},
   "source": [
    "Zooming in (excluding the first 100 days for instance): "
   ]
  },
  {
   "cell_type": "code",
   "execution_count": 11,
   "id": "ebe7584e",
   "metadata": {},
   "outputs": [
    {
     "data": {
      "image/png": "[encoded data removed]",
      "text/plain": [
       "<Figure size 720x468 with 1 Axes>"
      ]
     },
     "metadata": {
      "needs_background": "light"
     },
     "output_type": "display_data"
    }
   ],
   "source": [
    "plt.figure(figsize = (10, 6.5))\n",
    "plt.plot(n_days[100:], trace_p_clear[100:], color = 'aquamarine', label=\"$p_{clear}$\");\n",
    "plt.ylabel('$p(N)$')\n",
    "plt.xlabel('$N_{days}$')\n",
    "plt.suptitle(\"Trace of $p_{clear}$\")\n",
    "plt.legend();"
   ]
  },
  {
   "cell_type": "code",
   "execution_count": 12,
   "id": "629227bb",
   "metadata": {},
   "outputs": [
    {
     "data": {
      "image/png": "[encoded data removed]",
      "text/plain": [
       "<Figure size 720x468 with 1 Axes>"
      ]
     },
     "metadata": {
      "needs_background": "light"
     },
     "output_type": "display_data"
    }
   ],
   "source": [
    "plt.figure(figsize = (10, 6.5))\n",
    "plt.plot(n_days[100:], trace_p_cloudy[100:], color = 'orange', label=\"$p_{cloudy}$\");\n",
    "plt.ylabel('$p(N)$')\n",
    "plt.xlabel('$N_{days}$')\n",
    "plt.suptitle(\"Trace of $p_{cloudy}$\")\n",
    "plt.legend();"
   ]
  },
  {
   "cell_type": "code",
   "execution_count": 13,
   "id": "55e6d14a",
   "metadata": {},
   "outputs": [
    {
     "data": {
      "image/png": "[encoded data removed]",
      "text/plain": [
       "<Figure size 720x468 with 1 Axes>"
      ]
     },
     "metadata": {
      "needs_background": "light"
     },
     "output_type": "display_data"
    }
   ],
   "source": [
    "# produce the histogram. \n",
    "plt.figure(figsize = (10, 6.5))\n",
    "\n",
    "plt.hist(trace_p_clear, bins=100, color='aquamarine', label=\"$p_{clear}$\")\n",
    "plt.hist(trace_p_cloudy, bins=100, color='orange', label=\"$p_{cloudy}$\")\n",
    "\n",
    "plt.xlabel(\"$p$\")\n",
    "plt.ylabel(\"$counts$\")\n",
    "plt.legend();"
   ]
  },
  {
   "cell_type": "markdown",
   "id": "85ab23fd",
   "metadata": {},
   "source": [
    "I'll try to discard some initial trace-data points to see if that changes: "
   ]
  },
  {
   "cell_type": "code",
   "execution_count": 14,
   "id": "7d1a35dd",
   "metadata": {},
   "outputs": [
    {
     "data": {
      "image/png": "[encoded data removed]",
      "text/plain": [
       "<Figure size 720x468 with 1 Axes>"
      ]
     },
     "metadata": {
      "needs_background": "light"
     },
     "output_type": "display_data"
    }
   ],
   "source": [
    "# produce the histogram. \n",
    "plt.figure(figsize = (10, 6.5))\n",
    "\n",
    "plt.hist(trace_p_clear[100:], bins=100, color='aquamarine', label=\"$p_{clear}$\")\n",
    "plt.hist(trace_p_cloudy[100:], bins=100, color='orange', label=\"$p_{cloudy}$\")\n",
    "\n",
    "plt.xlabel(\"$p$\")\n",
    "plt.ylabel(\"$counts$\")\n",
    "plt.legend();"
   ]
  },
  {
   "cell_type": "markdown",
   "id": "df6d5f76",
   "metadata": {},
   "source": [
    "It doesn't really change in shape, but at least I am sure I did not take into accout the first $N = 100$ numbers (burn-in). I now will use some statistics to evaluate the error and the mean of the values for each $p$: "
   ]
  },
  {
   "cell_type": "code",
   "execution_count": 15,
   "id": "c259a2b9",
   "metadata": {},
   "outputs": [],
   "source": [
    "mean_p_clear = np.mean(trace_p_clear[100:])\n",
    "mean_p_cloudy = np.mean(trace_p_cloudy[100:])"
   ]
  },
  {
   "cell_type": "code",
   "execution_count": 16,
   "id": "261a4a4c",
   "metadata": {},
   "outputs": [
    {
     "name": "stdout",
     "output_type": "stream",
     "text": [
      "Mean p_clear:  0.8353336014076176\n",
      "Mean p_cloudy:  0.16459730121791175\n"
     ]
    }
   ],
   "source": [
    "print(\"Mean p_clear: \", mean_p_clear)\n",
    "print(\"Mean p_cloudy: \", mean_p_cloudy)"
   ]
  },
  {
   "cell_type": "markdown",
   "id": "9d8f9e1c",
   "metadata": {},
   "source": [
    "For the error it's a little tricky, because I am not sure the $\\sigma_{std}$ is a correct value of dispersion around the maxima. All I can do is introduce the intervals of credibility for the $p$ values I am studying: I am going to use the percentiles."
   ]
  },
  {
   "cell_type": "code",
   "execution_count": 17,
   "id": "479d52f2",
   "metadata": {},
   "outputs": [
    {
     "name": "stdout",
     "output_type": "stream",
     "text": [
      "68% credibility interval p_clear: ( 0.8335406395022936 , 0.8366135977824889 ).\n",
      "68% credibility interval p_cloudy: ( 0.16336352325041728 , 0.16640598800996628 ).\n"
     ]
    }
   ],
   "source": [
    "print(\"68% credibility interval p_clear: (\", np.percentile(trace_p_clear[100:], 16), \",\", np.percentile(trace_p_clear[100:], 84), \").\")\n",
    "print(\"68% credibility interval p_cloudy: (\", np.percentile(trace_p_cloudy[100:], 16), \",\", np.percentile(trace_p_cloudy[100:], 84), \").\")"
   ]
  }
 ],
 "metadata": {
  "kernelspec": {
   "display_name": "Python 3 (ipykernel)",
   "language": "python",
   "name": "python3"
  },
  "language_info": {
   "codemirror_mode": {
    "name": "ipython",
    "version": 3
   },
   "file_extension": ".py",
   "mimetype": "text/x-python",
   "name": "python",
   "nbconvert_exporter": "python",
   "pygments_lexer": "ipython3",
   "version": "3.9.7"
  }
 },
 "nbformat": 4,
 "nbformat_minor": 5
}
