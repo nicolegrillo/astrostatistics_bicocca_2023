{
 "cells": [
  {
   "cell_type": "markdown",
   "id": "226d46db",
   "metadata": {},
   "source": [
    "Ok, let's set\n",
    "\n",
    "- Cloud = 0\n",
    "- Clear = 1"
   ]
  },
  {
   "cell_type": "code",
   "execution_count": 1,
   "id": "c86a91cf",
   "metadata": {},
   "outputs": [],
   "source": [
    "import numpy as np\n",
    "import pylab as plt\n",
    "import astroML.stats\n",
    "\n",
    "plt.rcParams['figure.figsize'] = [10, 8]\n",
    "plt.rcParams['font.size'] = 12"
   ]
  },
  {
   "cell_type": "code",
   "execution_count": 2,
   "id": "44229d64",
   "metadata": {},
   "outputs": [
    {
     "data": {
      "text/plain": [
       "[<matplotlib.lines.Line2D at 0x1216df6a0>]"
      ]
     },
     "execution_count": 2,
     "metadata": {},
     "output_type": "execute_result"
    },
    {
     "data": {
      "image/png": "[encoded data removed]",
      "text/plain": [
       "<Figure size 432x288 with 1 Axes>"
      ]
     },
     "metadata": {
      "needs_background": "light"
     },
     "output_type": "display_data"
    }
   ],
   "source": [
    "weather = [1] # Weather of the first day\n",
    "\n",
    "for ii in range(1,10000):\n",
    "    # implementing forecasts based on probabilities\n",
    "    if weather[ii-1] == 1:\n",
    "        weather.append(np.random.choice(np.array([0, 1]),\n",
    "                                        p=np.array([0.1, 0.9])))\n",
    "    elif weather[ii-1] == 0:\n",
    "        weather.append(np.random.choice(np.array([0, 1]),\n",
    "                                        p=np.array([0.5, 0.5])))\n",
    "weather = np.array(weather)\n",
    "\n",
    "running_clear = np.cumsum(weather)/( np.arange(weather.shape[0])+1 )\n",
    "# plot the running average\n",
    "plt.plot(running_clear)"
   ]
  },
  {
   "cell_type": "code",
   "execution_count": 8,
   "id": "2d343098",
   "metadata": {},
   "outputs": [
    {
     "data": {
      "image/png": "[encoded data removed]",
      "text/plain": [
       "<Figure size 432x288 with 1 Axes>"
      ]
     },
     "metadata": {
      "needs_background": "light"
     },
     "output_type": "display_data"
    }
   ],
   "source": [
    "plt.hist(running_clear, bins=300, density=True, alpha=0.4);"
   ]
  },
  {
   "cell_type": "code",
   "execution_count": 4,
   "id": "42cbd088",
   "metadata": {},
   "outputs": [
    {
     "name": "stdout",
     "output_type": "stream",
     "text": [
      "0.8458192662810511\n"
     ]
    }
   ],
   "source": [
    "print(np.median(running_clear))"
   ]
  },
  {
   "cell_type": "code",
   "execution_count": 5,
   "id": "168f56c2",
   "metadata": {},
   "outputs": [
    {
     "name": "stdout",
     "output_type": "stream",
     "text": [
      "0.006580628645260265\n"
     ]
    }
   ],
   "source": [
    "print(astroML.stats.sigmaG(running_clear))"
   ]
  },
  {
   "cell_type": "markdown",
   "id": "8ebc673a",
   "metadata": {},
   "source": [
    "Conservative burn-in: ~2000 samples"
   ]
  },
  {
   "cell_type": "code",
   "execution_count": 7,
   "id": "d5a74469",
   "metadata": {},
   "outputs": [
    {
     "name": "stdout",
     "output_type": "stream",
     "text": [
      "0.8444614727558387\n",
      "0.003484603216985449\n"
     ]
    },
    {
     "data": {
      "image/png": "[encoded data removed]",
      "text/plain": [
       "<Figure size 432x288 with 1 Axes>"
      ]
     },
     "metadata": {
      "needs_background": "light"
     },
     "output_type": "display_data"
    }
   ],
   "source": [
    "burnin_index=2000\n",
    "running_burn = running_clear[burnin_index:]\n",
    "\n",
    "\n",
    "plt.hist(running_burn, bins=300, density=True, alpha=0.4);\n",
    "print(np.median(running_burn))\n",
    "print(astroML.stats.sigmaG(running_burn))"
   ]
  },
  {
   "cell_type": "markdown",
   "id": "8398f0b3",
   "metadata": {},
   "source": [
    "Much better, those long tails are gone!"
   ]
  },
  {
   "cell_type": "code",
   "execution_count": null,
   "id": "01a634ec",
   "metadata": {},
   "outputs": [],
   "source": []
  }
 ],
 "metadata": {
  "kernelspec": {
   "display_name": "Python 3 (ipykernel)",
   "language": "python",
   "name": "python3"
  },
  "language_info": {
   "codemirror_mode": {
    "name": "ipython",
    "version": 3
   },
   "file_extension": ".py",
   "mimetype": "text/x-python",
   "name": "python",
   "nbconvert_exporter": "python",
   "pygments_lexer": "ipython3",
   "version": "3.8.16"
  }
 },
 "nbformat": 4,
 "nbformat_minor": 5
}
